{
 "cells": [
  {
   "cell_type": "code",
   "execution_count": 1,
   "id": "ea596e7a-c698-4956-acb5-847c7f8cd5ed",
   "metadata": {
    "tags": []
   },
   "outputs": [],
   "source": [
    "import recbole"
   ]
  },
  {
   "cell_type": "code",
   "execution_count": 2,
   "id": "3647af65-2242-48ba-922e-4fe4ff124b82",
   "metadata": {
    "tags": []
   },
   "outputs": [],
   "source": [
    "import pandas as pd"
   ]
  },
  {
   "cell_type": "code",
   "execution_count": 13,
   "id": "17ab2360-da30-40da-b0ec-d8c26a17b800",
   "metadata": {
    "tags": []
   },
   "outputs": [],
   "source": [
    "data = pd.read_csv(\"/notebooks/Amazon-KG-v2.0-dataset/Amazon-KG-5core-Books/Amazon-KG-5core-Books.link\",sep='\\t')"
   ]
  },
  {
   "cell_type": "code",
   "execution_count": 14,
   "id": "da9f18d6-3955-495d-9dea-bf7bc753b5f2",
   "metadata": {
    "tags": []
   },
   "outputs": [
    {
     "data": {
      "text/html": [
       "<div>\n",
       "<style scoped>\n",
       "    .dataframe tbody tr th:only-of-type {\n",
       "        vertical-align: middle;\n",
       "    }\n",
       "\n",
       "    .dataframe tbody tr th {\n",
       "        vertical-align: top;\n",
       "    }\n",
       "\n",
       "    .dataframe thead th {\n",
       "        text-align: right;\n",
       "    }\n",
       "</style>\n",
       "<table border=\"1\" class=\"dataframe\">\n",
       "  <thead>\n",
       "    <tr style=\"text-align: right;\">\n",
       "      <th></th>\n",
       "      <th>item_id:token</th>\n",
       "      <th>entity_id:token</th>\n",
       "    </tr>\n",
       "  </thead>\n",
       "  <tbody>\n",
       "    <tr>\n",
       "      <th>0</th>\n",
       "      <td>000100039X</td>\n",
       "      <td>res:The_Prophet_(book)</td>\n",
       "    </tr>\n",
       "    <tr>\n",
       "      <th>1</th>\n",
       "      <td>0002005395</td>\n",
       "      <td>res:Deafening_(novel)</td>\n",
       "    </tr>\n",
       "    <tr>\n",
       "      <th>2</th>\n",
       "      <td>0002008572</td>\n",
       "      <td>res:Gold_Diggers_(novel)</td>\n",
       "    </tr>\n",
       "    <tr>\n",
       "      <th>3</th>\n",
       "      <td>0002051850</td>\n",
       "      <td>res:For_Whom_the_Bell_Tolls</td>\n",
       "    </tr>\n",
       "    <tr>\n",
       "      <th>4</th>\n",
       "      <td>0002219417</td>\n",
       "      <td>res:The_Winds_of_War</td>\n",
       "    </tr>\n",
       "  </tbody>\n",
       "</table>\n",
       "</div>"
      ],
      "text/plain": [
       "  item_id:token              entity_id:token\n",
       "0    000100039X       res:The_Prophet_(book)\n",
       "1    0002005395        res:Deafening_(novel)\n",
       "2    0002008572     res:Gold_Diggers_(novel)\n",
       "3    0002051850  res:For_Whom_the_Bell_Tolls\n",
       "4    0002219417         res:The_Winds_of_War"
      ]
     },
     "execution_count": 14,
     "metadata": {},
     "output_type": "execute_result"
    }
   ],
   "source": [
    "data.head()"
   ]
  },
  {
   "cell_type": "code",
   "execution_count": 15,
   "id": "9ec798a3-c154-4400-b925-3fe4c2f185ef",
   "metadata": {
    "tags": []
   },
   "outputs": [],
   "source": [
    "data.drop('entity_id:token',axis=1,inplace=True)"
   ]
  },
  {
   "cell_type": "code",
   "execution_count": 16,
   "id": "ab1e0b57-a872-4dc8-8d18-bd279a64ac90",
   "metadata": {
    "tags": []
   },
   "outputs": [],
   "source": [
    "data.drop_duplicates(inplace=True)"
   ]
  },
  {
   "cell_type": "code",
   "execution_count": 17,
   "id": "82d9cf3f-c5a2-4724-83fd-2714f5de9842",
   "metadata": {
    "tags": []
   },
   "outputs": [],
   "source": [
    "data.to_csv(\"/notebooks/Amazon-KG-v2.0-dataset/Amazon-KG-5core-Books/Amazon-KG-5core-Books.item\",sep='\\t')"
   ]
  },
  {
   "cell_type": "code",
   "execution_count": 18,
   "id": "da99440b-38fc-4b58-93e9-07613e5b9f6a",
   "metadata": {
    "tags": []
   },
   "outputs": [],
   "source": [
    "data = pd.read_csv(\"/notebooks/Amazon-KG-v2.0-dataset/Amazon-KG-5core-Movies_and_TV/Amazon-KG-5core-Movies_and_TV.link\",sep='\\t')"
   ]
  },
  {
   "cell_type": "code",
   "execution_count": 19,
   "id": "17640d82-353f-43bb-8e38-e43367b8aef7",
   "metadata": {
    "tags": []
   },
   "outputs": [],
   "source": [
    "data.drop('entity_id:token',axis=1,inplace=True)"
   ]
  },
  {
   "cell_type": "code",
   "execution_count": 20,
   "id": "90f6009f-27cb-4e03-bfff-094d81dd7a4f",
   "metadata": {
    "tags": []
   },
   "outputs": [],
   "source": [
    "data.drop_duplicates(inplace=True)"
   ]
  },
  {
   "cell_type": "code",
   "execution_count": 21,
   "id": "939e082d-c4d3-47fc-9944-5ea1bda330cb",
   "metadata": {
    "tags": []
   },
   "outputs": [],
   "source": [
    "data.to_csv(\"/notebooks/Amazon-KG-v2.0-dataset/Amazon-KG-5core-Movies_and_TV/Amazon-KG-5core-Movies_and_TV.item\",sep='\\t')"
   ]
  },
  {
   "cell_type": "code",
   "execution_count": null,
   "id": "edad9f2e-fa56-4636-bb6f-76e13a53ae2c",
   "metadata": {},
   "outputs": [],
   "source": []
  },
  {
   "cell_type": "code",
   "execution_count": null,
   "id": "35bf8a25-c1ab-42ec-a448-f6bf51d9076d",
   "metadata": {},
   "outputs": [],
   "source": []
  }
 ],
 "metadata": {
  "kernelspec": {
   "display_name": "Python 3 (ipykernel)",
   "language": "python",
   "name": "python3"
  },
  "language_info": {
   "codemirror_mode": {
    "name": "ipython",
    "version": 3
   },
   "file_extension": ".py",
   "mimetype": "text/x-python",
   "name": "python",
   "nbconvert_exporter": "python",
   "pygments_lexer": "ipython3",
   "version": "3.11.7"
  }
 },
 "nbformat": 4,
 "nbformat_minor": 5
}
