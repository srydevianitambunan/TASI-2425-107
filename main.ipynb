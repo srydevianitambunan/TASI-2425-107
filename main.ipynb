{
 "cells": [
  {
   "cell_type": "code",
   "execution_count": 363,
   "id": "344b10f3-1000-4d73-8bc8-8e6fbb221ce7",
   "metadata": {
    "tags": []
   },
   "outputs": [],
   "source": [
    "import recbole"
   ]
  },
  {
   "cell_type": "code",
   "execution_count": 364,
   "id": "ff898294-c208-4c75-bebe-30cdb6302f5b",
   "metadata": {
    "tags": []
   },
   "outputs": [],
   "source": [
    "import torch"
   ]
  },
  {
   "cell_type": "code",
   "execution_count": 365,
   "id": "5d81cf2c-e9f1-46ca-a64f-6f401f807292",
   "metadata": {
    "tags": []
   },
   "outputs": [],
   "source": [
    "import time"
   ]
  },
  {
   "cell_type": "code",
   "execution_count": 366,
   "id": "49513ea7-0751-476a-8ccb-5341381900e9",
   "metadata": {
    "tags": []
   },
   "outputs": [],
   "source": [
    "import json\n",
    "import pandas as pd"
   ]
  },
  {
   "cell_type": "code",
   "execution_count": 367,
   "id": "bd4c3ccb-d10b-4090-b2ba-5743ca3b6912",
   "metadata": {
    "tags": []
   },
   "outputs": [],
   "source": [
    "with open('./Dataset/Triple_Dataset_ChatGPT_Movies.json','r') as file:\n",
    "    data_movies = json.load(file)"
   ]
  },
  {
   "cell_type": "code",
   "execution_count": 368,
   "id": "afcbfc4d-a966-4284-9bff-802631cab7cd",
   "metadata": {
    "tags": []
   },
   "outputs": [],
   "source": [
    "with open('./Dataset/triple_dataset_ChatGPT_Books.json','r') as file:\n",
    "    data_book = json.load(file)"
   ]
  },
  {
   "cell_type": "code",
   "execution_count": 369,
   "id": "25f98dfb-cb6d-4912-9313-3357d7513b90",
   "metadata": {
    "tags": []
   },
   "outputs": [],
   "source": [
    "item_movie=pd.DataFrame()\n",
    "item_book=pd.DataFrame()"
   ]
  },
  {
   "cell_type": "code",
   "execution_count": 370,
   "id": "6978ae1d-96b1-4bda-96da-04a709940257",
   "metadata": {
    "tags": []
   },
   "outputs": [],
   "source": [
    "item_columns_movie = [\"item_id:token\" , \"movie_title:token\"  , \"class:token_seq\",\"release_year:token\"]"
   ]
  },
  {
   "cell_type": "code",
   "execution_count": 371,
   "id": "e3230675-f6e7-4585-9c38-536be6cd8214",
   "metadata": {
    "tags": []
   },
   "outputs": [],
   "source": [
    "item_columns_book = [\"item_id:token\" , \"movie_title:token\"  , \"class:token_seq\",\"release_year:token\"]"
   ]
  },
  {
   "cell_type": "code",
   "execution_count": 372,
   "id": "ad58e8e3-a169-48b6-9aac-00662dc9b41f",
   "metadata": {
    "tags": []
   },
   "outputs": [],
   "source": [
    "for i in item_columns_movie:\n",
    "    item_movie[i] = []"
   ]
  },
  {
   "cell_type": "code",
   "execution_count": 373,
   "id": "d969b7bd-8c2b-465d-9950-e77a219ed863",
   "metadata": {
    "tags": []
   },
   "outputs": [],
   "source": [
    "for i in item_columns_book:\n",
    "    item_book[i] = []"
   ]
  },
  {
   "cell_type": "code",
   "execution_count": 374,
   "id": "444af367-ede3-4c95-91fa-3631d3f1fc9b",
   "metadata": {
    "tags": []
   },
   "outputs": [],
   "source": [
    "for i in data_book:\n",
    "    rows = {\n",
    "        \"item_id:token\": i[\"item_id\"],\n",
    "        \"movie_title:token\": i[\"head_id\"].replace(\":\",\"=\"),\n",
    "        \"class:token_seq\": i[\"relation_id\"].replace(\":\",\"=\"),\n",
    "        \"release_year:token\":\"1999\"\n",
    "    }\n",
    "    temp_df = pd.DataFrame([rows]) # Create a temporary DataFrame with one row\n",
    "    item_book = pd.concat([item_book, temp_df], ignore_index=True)"
   ]
  },
  {
   "cell_type": "code",
   "execution_count": 375,
   "id": "449d2a6b-c1f9-4538-8837-4d5a5a5c4716",
   "metadata": {
    "tags": []
   },
   "outputs": [],
   "source": [
    "item_book.to_csv(\"/notebooks/Dataset/book/book.item\",index=False,sep='\\t')"
   ]
  },
  {
   "cell_type": "code",
   "execution_count": 376,
   "id": "54a663d9-3b9b-40f5-a64d-412e4b2afd0c",
   "metadata": {
    "tags": []
   },
   "outputs": [],
   "source": [
    "for i in data_movies:\n",
    "    rows = {\n",
    "        \"item_id:token\":i[\"item_id\"],\n",
    "        \"movie_title:token\":i[\"head_id\"].replace(\":\",\"=\"),\n",
    "        \"class:token_seq\":i[\"relation_id\"].replace(\":\",\"=\"),\n",
    "        \"release_year:token\":\"1999\"\n",
    "    }\n",
    "    temp_df = pd.DataFrame([rows]) # Create a temporary DataFrame with one row\n",
    "    item_movie = pd.concat([item_movie, temp_df], ignore_index=True)"
   ]
  },
  {
   "cell_type": "code",
   "execution_count": 377,
   "id": "91eb27e6-a330-4bd5-bbb1-bde4ce001f56",
   "metadata": {
    "tags": []
   },
   "outputs": [],
   "source": [
    "item_movie.to_csv(\"/notebooks/Dataset/movie/movie.item\",index=False,sep='\\t')"
   ]
  },
  {
   "cell_type": "code",
   "execution_count": 378,
   "id": "6e6fa81a-795f-44e3-88dc-6f236c11b743",
   "metadata": {
    "tags": []
   },
   "outputs": [
    {
     "data": {
      "text/plain": [
       "dict_keys(['user_id', 'item_id', 'rating', 'entity_id', 'head_id', 'relation_id', 'tail_id'])"
      ]
     },
     "execution_count": 378,
     "metadata": {},
     "output_type": "execute_result"
    }
   ],
   "source": [
    "data_book[0].keys()"
   ]
  },
  {
   "cell_type": "code",
   "execution_count": 379,
   "id": "f94f8aa8-5055-4ac7-9d83-96c38ced28d6",
   "metadata": {
    "tags": []
   },
   "outputs": [
    {
     "data": {
      "text/plain": [
       "dict_keys(['user_id', 'item_id', 'rating', 'entity_id', 'head_id', 'relation_id', 'tail_id'])"
      ]
     },
     "execution_count": 379,
     "metadata": {},
     "output_type": "execute_result"
    }
   ],
   "source": [
    "data_movies[0].keys()"
   ]
  },
  {
   "cell_type": "code",
   "execution_count": 380,
   "id": "b44f4901-ad0f-47cd-849e-f18d62cfac55",
   "metadata": {
    "tags": []
   },
   "outputs": [],
   "source": [
    "user_coloms = []\n",
    "user_age = []\n",
    "user_gender = []\n",
    "user_occupation = []\n",
    "zip_code = []\n",
    "for i in data_movies:\n",
    "    user_coloms.append(i[\"user_id\"])\n",
    "user_coloms = list(set(user_coloms))\n",
    "for i in user_coloms:\n",
    "    user_age.append(0)\n",
    "    user_gender.append(\"M\")\n",
    "    user_occupation.append(\"Weebs\")\n",
    "    zip_code.append(\"non\")\n",
    "user_movie = pd.DataFrame({\"user_id:token\":user_coloms,\"user_age:token\":user_age,\"user_gender:token\":user_gender,\"occupation:token\":user_occupation,\"zip_code:token\":zip_code})"
   ]
  },
  {
   "cell_type": "code",
   "execution_count": 381,
   "id": "a669b3f8-82a1-4322-9529-25f5552c62b7",
   "metadata": {
    "tags": []
   },
   "outputs": [],
   "source": [
    "user_movie.to_csv(\"/notebooks/Dataset/movie/movie.user\",index=False,sep='\\t')"
   ]
  },
  {
   "cell_type": "code",
   "execution_count": null,
   "id": "e90fcc45-7915-4901-9991-f9e57cffb851",
   "metadata": {},
   "outputs": [],
   "source": []
  },
  {
   "cell_type": "code",
   "execution_count": 382,
   "id": "6b14a572-8890-4dd3-9ad3-e2638d70f995",
   "metadata": {
    "tags": []
   },
   "outputs": [],
   "source": [
    "user_coloms = []\n",
    "user_age = []\n",
    "user_gender = []\n",
    "user_occupation = []\n",
    "zip_code = []\n",
    "for i in data_book:\n",
    "    user_coloms.append(i[\"user_id\"])\n",
    "user_coloms = list(set(user_coloms))\n",
    "for i in user_coloms:\n",
    "    user_age.append(0)\n",
    "    user_gender.append(\"M\")\n",
    "    user_occupation.append(\"Weebs\")\n",
    "    zip_code.append(\"non\")\n",
    "user_book = pd.DataFrame({\"user_id:token\":user_coloms,\"user_age:token\":user_age,\"user_gender:token\":user_gender,\"occupation:token\":user_occupation,\"zip_code:token\":zip_code})\n",
    "# user_id:token\tage:token\tgender:token\toccupation:token\tzip_code:token\n"
   ]
  },
  {
   "cell_type": "code",
   "execution_count": 383,
   "id": "0a5bcdc4-d5e7-43c4-b3fc-368ee04a703d",
   "metadata": {
    "tags": []
   },
   "outputs": [],
   "source": [
    "user_book.to_csv(\"/notebooks/Dataset/book/book.user\",index=False,sep='\\t')"
   ]
  },
  {
   "cell_type": "code",
   "execution_count": 407,
   "id": "0919833d-4c69-4458-b5f8-8922c24e2314",
   "metadata": {
    "tags": []
   },
   "outputs": [],
   "source": [
    "inter_movie = pd.DataFrame()"
   ]
  },
  {
   "cell_type": "code",
   "execution_count": 408,
   "id": "4a4e92ef-3c9d-4c28-98f9-2d027d1ea08c",
   "metadata": {
    "tags": []
   },
   "outputs": [],
   "source": [
    "inter_movie_columns = [\"user_id:token\",\"item_id:token\",\"rating:float\",\"timestamp:float\"]"
   ]
  },
  {
   "cell_type": "code",
   "execution_count": 409,
   "id": "6bcea4fb-4a35-4f6b-b55e-f4f905af1585",
   "metadata": {
    "tags": []
   },
   "outputs": [],
   "source": [
    "for i in inter_movie_columns:\n",
    "    inter_movie[i]=[]\n",
    "for i in data_movies:\n",
    "    rows = {\n",
    "        \"user_id:token\":str(i[\"user_id\"]),\n",
    "        \"item_id:token\":i[\"item_id\"],\n",
    "        \"rating:float\":i[\"rating\"],\n",
    "        \"timestamp:float\":int(time.time())\n",
    "    }\n",
    "    temp_df = pd.DataFrame([rows]) # Create a temporary DataFrame with one row\n",
    "    inter_movie = pd.concat([inter_movie, temp_df], ignore_index=True)"
   ]
  },
  {
   "cell_type": "code",
   "execution_count": 410,
   "id": "b8862e67-4c52-4f9c-bb15-9c11c953e1a1",
   "metadata": {
    "tags": []
   },
   "outputs": [],
   "source": [
    "inter_movie.to_csv(\"/notebooks/Dataset/movie/movie.inter\",index=False,sep='\\t')"
   ]
  },
  {
   "cell_type": "code",
   "execution_count": 411,
   "id": "66ededdc-a21c-403d-bf04-153fd80c2dd9",
   "metadata": {
    "tags": []
   },
   "outputs": [],
   "source": [
    "inter_book = pd.DataFrame()"
   ]
  },
  {
   "cell_type": "code",
   "execution_count": 412,
   "id": "c1cf45d2-3279-45e4-aaf4-68f1c54ae5b5",
   "metadata": {
    "tags": []
   },
   "outputs": [],
   "source": [
    "inter_book_columns = [\"user_id:token\",\"item_id:token\",\"rating:float\",\"timestamp:float\"]"
   ]
  },
  {
   "cell_type": "code",
   "execution_count": 413,
   "id": "e4a472c4-936e-4d03-968b-772949871135",
   "metadata": {
    "tags": []
   },
   "outputs": [],
   "source": [
    "for i in inter_movie_columns:\n",
    "    inter_book[i]=[]\n",
    "for i in data_book:\n",
    "    rows = {\n",
    "        \"user_id:token\":str(i[\"user_id\"]),\n",
    "        \"item_id:token\":i[\"item_id\"],\n",
    "        \"rating:float\":i[\"rating\"],\n",
    "        \"timestamp:float\":int(time.time())\n",
    "    }\n",
    "    temp_df = pd.DataFrame([rows]) # Create a temporary DataFrame with one row\n",
    "    inter_book = pd.concat([inter_book, temp_df], ignore_index=True)"
   ]
  },
  {
   "cell_type": "code",
   "execution_count": 414,
   "id": "d94f9de7-a8af-4bf8-a58f-04d92ec3cf92",
   "metadata": {
    "tags": []
   },
   "outputs": [],
   "source": [
    "inter_book.to_csv(\"/notebooks/Dataset/book/book.inter\",index=False,sep='\\t')"
   ]
  },
  {
   "cell_type": "code",
   "execution_count": null,
   "id": "15f03f30-0bf5-4090-9022-27d73d22d6cb",
   "metadata": {},
   "outputs": [],
   "source": []
  },
  {
   "cell_type": "code",
   "execution_count": null,
   "id": "8dc35fdf-5c4f-47b0-8471-d6a15660233b",
   "metadata": {},
   "outputs": [],
   "source": []
  },
  {
   "cell_type": "code",
   "execution_count": null,
   "id": "7708811f-720e-40ff-acc2-879469b9cc98",
   "metadata": {},
   "outputs": [],
   "source": []
  },
  {
   "cell_type": "code",
   "execution_count": null,
   "id": "636515a4-51cb-4c5c-90f6-47f28fc33a5d",
   "metadata": {},
   "outputs": [],
   "source": []
  },
  {
   "cell_type": "code",
   "execution_count": null,
   "id": "57705768-6e43-4d43-8b58-cb1a4ae1c5ab",
   "metadata": {},
   "outputs": [],
   "source": []
  },
  {
   "cell_type": "code",
   "execution_count": null,
   "id": "85811373-e6e3-4318-be69-0ec83a28cc13",
   "metadata": {},
   "outputs": [],
   "source": []
  },
  {
   "cell_type": "code",
   "execution_count": null,
   "id": "585b93e3-5fcc-4e5c-9032-2a3f6b0604bf",
   "metadata": {},
   "outputs": [],
   "source": []
  }
 ],
 "metadata": {
  "kernelspec": {
   "display_name": "Python 3 (ipykernel)",
   "language": "python",
   "name": "python3"
  },
  "language_info": {
   "codemirror_mode": {
    "name": "ipython",
    "version": 3
   },
   "file_extension": ".py",
   "mimetype": "text/x-python",
   "name": "python",
   "nbconvert_exporter": "python",
   "pygments_lexer": "ipython3",
   "version": "3.11.7"
  }
 },
 "nbformat": 4,
 "nbformat_minor": 5
}
