{
 "cells": [
  {
   "cell_type": "code",
   "execution_count": 1,
   "metadata": {},
   "outputs": [],
   "source": [
    "import pandas as pd\n",
    "import json"
   ]
  },
  {
   "cell_type": "code",
   "execution_count": 2,
   "metadata": {},
   "outputs": [
    {
     "name": "stdout",
     "output_type": "stream",
     "text": [
      "   reviewerID        asin                                       title\n",
      "0      366595  MNTGGZBSGA  Heavenly Highway Hymns: Shaped-Note Hymnal\n",
      "1      591833  MNTGGZBSGA  Heavenly Highway Hymns: Shaped-Note Hymnal\n",
      "2      222211  MNTGGZBSGA  Heavenly Highway Hymns: Shaped-Note Hymnal\n",
      "3      351171  MNTGGZBSGA  Heavenly Highway Hymns: Shaped-Note Hymnal\n",
      "4      284978  MNTGGZBSGA  Heavenly Highway Hymns: Shaped-Note Hymnal\n"
     ]
    }
   ],
   "source": [
    "# Membaca file CSV hasil merge\n",
    "df_books = pd.read_csv('Attributes_Books.csv')\n",
    "\n",
    "# Menampilkan 5 baris teratas\n",
    "print(df_books.head())"
   ]
  },
  {
   "cell_type": "code",
   "execution_count": 3,
   "metadata": {},
   "outputs": [
    {
     "name": "stdout",
     "output_type": "stream",
     "text": [
      "    reviewerID  num_items_reviewed\n",
      "0            0                   1\n",
      "1            1                   1\n",
      "2            2                   1\n",
      "3            3                   1\n",
      "4            4                   1\n",
      "5            5                   1\n",
      "6            6                   1\n",
      "7            7                   1\n",
      "8            8                   2\n",
      "9            9                   1\n",
      "10          10                   1\n",
      "11          11                   1\n",
      "12          12                   1\n",
      "13          13                   1\n",
      "14          14                   1\n",
      "15          15                   1\n",
      "16          16                   1\n",
      "17          17                   1\n",
      "18          18                   1\n",
      "19          19                   1\n"
     ]
    }
   ],
   "source": [
    "# Menghitung jumlah item unik yang direview oleh setiap reviewerID\n",
    "reviewer_item_counts = df_books.groupby('reviewerID')['asin'].nunique().reset_index()\n",
    "\n",
    "# Mengubah nama kolom agar lebih jelas\n",
    "reviewer_item_counts.columns = ['reviewerID', 'num_items_reviewed']\n",
    "\n",
    "# Menampilkan hasil\n",
    "print(reviewer_item_counts.head(20))"
   ]
  },
  {
   "cell_type": "code",
   "execution_count": 4,
   "metadata": {},
   "outputs": [
    {
     "name": "stdout",
     "output_type": "stream",
     "text": [
      "        reviewerID  num_items_reviewed\n",
      "225177      225177                 165\n",
      "88685        88685                 136\n",
      "146741      146741                 110\n",
      "57822        57822                  99\n",
      "71191        71191                  91\n",
      "516770      516770                  85\n",
      "230157      230157                  82\n",
      "318872      318872                  73\n",
      "120587      120587                  70\n",
      "460060      460060                  67\n",
      "265428      265428                  66\n",
      "103209      103209                  63\n",
      "128273      128273                  62\n",
      "261505      261505                  61\n",
      "361288      361288                  60\n",
      "15351        15351                  59\n",
      "271142      271142                  58\n",
      "98796        98796                  57\n",
      "197830      197830                  56\n",
      "221631      221631                  56\n",
      "101967      101967                  54\n",
      "518939      518939                  53\n",
      "266245      266245                  52\n",
      "495306      495306                  51\n",
      "105265      105265                  51\n",
      "367144      367144                  50\n",
      "573116      573116                  50\n",
      "61931        61931                  49\n",
      "224827      224827                  48\n",
      "58262        58262                  48\n"
     ]
    }
   ],
   "source": [
    "# Mengurutkan dari yang tertinggi ke terendah\n",
    "reviewer_item_counts = reviewer_item_counts.sort_values(by='num_items_reviewed', ascending=False)\n",
    "\n",
    "# Menampilkan hasil\n",
    "print(reviewer_item_counts.head(30))"
   ]
  },
  {
   "cell_type": "code",
   "execution_count": 5,
   "metadata": {},
   "outputs": [
    {
     "name": "stdout",
     "output_type": "stream",
     "text": [
      "Total reviewerID yang unik: 598882\n"
     ]
    }
   ],
   "source": [
    "# Menghitung jumlah reviewerID yang unik\n",
    "total_unique_reviewers = df_books['reviewerID'].nunique()\n",
    "\n",
    "# Menampilkan hasil\n",
    "print(\"Total reviewerID yang unik:\", total_unique_reviewers)"
   ]
  },
  {
   "cell_type": "code",
   "execution_count": 6,
   "metadata": {},
   "outputs": [
    {
     "name": "stdout",
     "output_type": "stream",
     "text": [
      "   reviewerID        asin                                              title\n",
      "0      586297  GAYDAMJVGI  Steve Green: Hide 'em in Your Heart: 13 Bible ...\n",
      "1      226404  GAYDAMJVGI  Steve Green: Hide 'em in Your Heart: 13 Bible ...\n",
      "2      178001  GAYDAMJVGI  Steve Green: Hide 'em in Your Heart: 13 Bible ...\n",
      "3      388575  GAYDAMJVGI  Steve Green: Hide 'em in Your Heart: 13 Bible ...\n",
      "4      515515  GAYDAMJVGI  Steve Green: Hide 'em in Your Heart: 13 Bible ...\n"
     ]
    }
   ],
   "source": [
    "# Membaca file CSV hasil merge\n",
    "df_movies = pd.read_csv('Attributes_Movies_and_TV.csv')\n",
    "\n",
    "# Menampilkan 5 baris teratas\n",
    "print(df_movies.head())"
   ]
  },
  {
   "cell_type": "code",
   "execution_count": 7,
   "metadata": {},
   "outputs": [
    {
     "name": "stdout",
     "output_type": "stream",
     "text": [
      "    reviewerID  num_items_reviewed\n",
      "0            0                   1\n",
      "1            1                   1\n",
      "2            2                   1\n",
      "3            3                   1\n",
      "4            4                   1\n",
      "5            5                   1\n",
      "6            6                   1\n",
      "7            7                   1\n",
      "8            8                   1\n",
      "9            9                   1\n",
      "10          10                   1\n",
      "11          11                   1\n",
      "12          12                   2\n",
      "13          13                   1\n",
      "14          14                   1\n",
      "15          15                   1\n",
      "16          16                   1\n",
      "17          17                   1\n",
      "18          18                   1\n",
      "19          19                   1\n"
     ]
    }
   ],
   "source": [
    "# Menghitung jumlah item unik yang direview oleh setiap reviewerID\n",
    "reviewer_item_counts_movies = df_movies.groupby('reviewerID')['asin'].nunique().reset_index()\n",
    "\n",
    "# Mengubah nama kolom agar lebih jelas\n",
    "reviewer_item_counts_movies.columns = ['reviewerID', 'num_items_reviewed']\n",
    "\n",
    "# Menampilkan hasil\n",
    "print(reviewer_item_counts_movies.head(20))"
   ]
  },
  {
   "cell_type": "code",
   "execution_count": 8,
   "metadata": {},
   "outputs": [
    {
     "name": "stdout",
     "output_type": "stream",
     "text": [
      "        reviewerID  num_items_reviewed\n",
      "28637        28637                 240\n",
      "559922      559922                 222\n",
      "3269          3269                 192\n",
      "368384      368384                 184\n",
      "538318      538318                 179\n",
      "429195      429195                 178\n",
      "213901      213901                 178\n",
      "269727      269727                 175\n",
      "228307      228307                 168\n",
      "425272      425272                 168\n",
      "165096      165096                 164\n",
      "505884      505884                 164\n",
      "434902      434902                 164\n",
      "207609      207609                 163\n",
      "74421        74421                 157\n",
      "149797      149797                 155\n",
      "172395      172395                 155\n",
      "463351      463351                 155\n",
      "510638      510638                 149\n",
      "86052        86052                 149\n",
      "320569      320569                 140\n",
      "353043      353043                 137\n",
      "531094      531094                 135\n",
      "74584        74584                 133\n",
      "221586      221586                 131\n",
      "57337        57337                 130\n",
      "575092      575092                 130\n",
      "489739      489739                 130\n",
      "418302      418302                 130\n",
      "66823        66823                 130\n"
     ]
    }
   ],
   "source": [
    "# Mengurutkan dari yang tertinggi ke terendah\n",
    "reviewer_item_counts_movies = reviewer_item_counts_movies.sort_values(by='num_items_reviewed', ascending=False)\n",
    "\n",
    "# Menampilkan hasil\n",
    "print(reviewer_item_counts_movies.head(30))"
   ]
  },
  {
   "cell_type": "code",
   "execution_count": 9,
   "metadata": {},
   "outputs": [
    {
     "name": "stdout",
     "output_type": "stream",
     "text": [
      "Total reviewerID yang unik: 617170\n"
     ]
    }
   ],
   "source": [
    "# Menghitung jumlah reviewerID yang unik\n",
    "total_unique_reviewers = df_movies['reviewerID'].nunique()\n",
    "\n",
    "# Menampilkan hasil\n",
    "print(\"Total reviewerID yang unik:\", total_unique_reviewers)"
   ]
  },
  {
   "cell_type": "code",
   "execution_count": 10,
   "metadata": {},
   "outputs": [
    {
     "name": "stdout",
     "output_type": "stream",
     "text": [
      "Total asin yang unik: 772\n"
     ]
    }
   ],
   "source": [
    "# Menghitung jumlah reviewerID yang unik\n",
    "total_unique_reviewers = df_movies['asin'].nunique()\n",
    "\n",
    "# Menampilkan hasil\n",
    "print(\"Total asin yang unik:\", total_unique_reviewers)"
   ]
  },
  {
   "cell_type": "code",
   "execution_count": 13,
   "metadata": {},
   "outputs": [
    {
     "name": "stdout",
     "output_type": "stream",
     "text": [
      "                                         description  \\\n",
      "0  ['This is a collection of classic gospel hymns...   \n",
      "1  ['This is a collection of classic gospel hymns...   \n",
      "2  ['This is a collection of classic gospel hymns...   \n",
      "3  ['This is a collection of classic gospel hymns...   \n",
      "4  ['This is a collection of classic gospel hymns...   \n",
      "\n",
      "                                        title        asin  reviewerID  \\\n",
      "0  Heavenly Highway Hymns: Shaped-Note Hymnal  MNTGGZBSGA      366595   \n",
      "1  Heavenly Highway Hymns: Shaped-Note Hymnal  MNTGGZBSGA      591833   \n",
      "2  Heavenly Highway Hymns: Shaped-Note Hymnal  MNTGGZBSGA      222211   \n",
      "3  Heavenly Highway Hymns: Shaped-Note Hymnal  MNTGGZBSGA      351171   \n",
      "4  Heavenly Highway Hymns: Shaped-Note Hymnal  MNTGGZBSGA      284978   \n",
      "\n",
      "   overall   reviewTime  \n",
      "0        4  10 16, 2012  \n",
      "1        5   01 2, 2012  \n",
      "2        4  12 28, 2011  \n",
      "3        5  09 16, 2011  \n",
      "4        5  09 13, 2009  \n"
     ]
    }
   ],
   "source": [
    "# Membaca file CSV hasil merge\n",
    "d2 = pd.read_csv('merge_Books_tokenized(2).csv')\n",
    "\n",
    "# Menampilkan 5 baris teratas\n",
    "print(d2.head())"
   ]
  },
  {
   "cell_type": "code",
   "execution_count": 14,
   "metadata": {},
   "outputs": [
    {
     "name": "stdout",
     "output_type": "stream",
     "text": [
      "Total asin yang unik: 4271\n"
     ]
    }
   ],
   "source": [
    "# Menghitung jumlah reviewerID yang unik\n",
    "total_unique_reviewers = d2['asin'].nunique()\n",
    "\n",
    "# Menampilkan hasil\n",
    "print(\"Total asin yang unik:\", total_unique_reviewers)"
   ]
  },
  {
   "cell_type": "code",
   "execution_count": 11,
   "metadata": {},
   "outputs": [
    {
     "name": "stdout",
     "output_type": "stream",
     "text": [
      "                                         description  \\\n",
      "0  [\"Steve Green: Hide 'em in Your Heart: 13 Bibl...   \n",
      "1  [\"Steve Green: Hide 'em in Your Heart: 13 Bibl...   \n",
      "2  [\"Steve Green: Hide 'em in Your Heart: 13 Bibl...   \n",
      "3  [\"Steve Green: Hide 'em in Your Heart: 13 Bibl...   \n",
      "4  [\"Steve Green: Hide 'em in Your Heart: 13 Bibl...   \n",
      "\n",
      "                                               title        asin  reviewerID  \\\n",
      "0  Steve Green: Hide 'em in Your Heart: 13 Bible ...  GAYDAMJVGI      586297   \n",
      "1  Steve Green: Hide 'em in Your Heart: 13 Bible ...  GAYDAMJVGI      226404   \n",
      "2  Steve Green: Hide 'em in Your Heart: 13 Bible ...  GAYDAMJVGI      178001   \n",
      "3  Steve Green: Hide 'em in Your Heart: 13 Bible ...  GAYDAMJVGI      388575   \n",
      "4  Steve Green: Hide 'em in Your Heart: 13 Bible ...  GAYDAMJVGI      515515   \n",
      "\n",
      "   overall   reviewTime  \n",
      "0        5  05 19, 2009  \n",
      "1        5  07 18, 2007  \n",
      "2        5  01 19, 2017  \n",
      "3        5  12 17, 2016  \n",
      "4        5   12 8, 2016  \n"
     ]
    }
   ],
   "source": [
    "# Membaca file CSV hasil merge\n",
    "d = pd.read_csv('merge_Movies_and_TV_tokenized(2).csv')\n",
    "\n",
    "# Menampilkan 5 baris teratas\n",
    "print(d.head())"
   ]
  },
  {
   "cell_type": "code",
   "execution_count": 12,
   "metadata": {},
   "outputs": [
    {
     "name": "stdout",
     "output_type": "stream",
     "text": [
      "Total asin yang unik: 772\n"
     ]
    }
   ],
   "source": [
    "# Menghitung jumlah reviewerID yang unik\n",
    "total_unique_reviewers = d['asin'].nunique()\n",
    "\n",
    "# Menampilkan hasil\n",
    "print(\"Total asin yang unik:\", total_unique_reviewers)"
   ]
  }
 ],
 "metadata": {
  "kernelspec": {
   "display_name": "base",
   "language": "python",
   "name": "python3"
  },
  "language_info": {
   "codemirror_mode": {
    "name": "ipython",
    "version": 3
   },
   "file_extension": ".py",
   "mimetype": "text/x-python",
   "name": "python",
   "nbconvert_exporter": "python",
   "pygments_lexer": "ipython3",
   "version": "3.12.4"
  }
 },
 "nbformat": 4,
 "nbformat_minor": 2
}
