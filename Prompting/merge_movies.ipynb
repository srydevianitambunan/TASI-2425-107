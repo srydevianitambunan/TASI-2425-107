{
 "cells": [
  {
   "cell_type": "code",
   "execution_count": 37,
   "metadata": {},
   "outputs": [],
   "source": [
    "import pandas as pd"
   ]
  },
  {
   "cell_type": "code",
   "execution_count": 38,
   "metadata": {},
   "outputs": [
    {
     "name": "stdout",
     "output_type": "stream",
     "text": [
      "   reviewerID        asin                                              title\n",
      "0      586297  GAYDAMJVGI  Steve Green: Hide 'em in Your Heart: 13 Bible ...\n",
      "1      226404  GAYDAMJVGI  Steve Green: Hide 'em in Your Heart: 13 Bible ...\n",
      "2      178001  GAYDAMJVGI  Steve Green: Hide 'em in Your Heart: 13 Bible ...\n",
      "3      388575  GAYDAMJVGI  Steve Green: Hide 'em in Your Heart: 13 Bible ...\n",
      "4      515515  GAYDAMJVGI  Steve Green: Hide 'em in Your Heart: 13 Bible ...\n"
     ]
    }
   ],
   "source": [
    "# Membaca file CSV hasil merge\n",
    "df_reviews = pd.read_csv('Attributes_Movies_and_TV.csv')\n",
    "\n",
    "# Menampilkan 5 baris teratas\n",
    "print(df_reviews.head())"
   ]
  },
  {
   "cell_type": "code",
   "execution_count": 39,
   "metadata": {},
   "outputs": [
    {
     "name": "stdout",
     "output_type": "stream",
     "text": [
      "Jumlah total reviewerID: 925636\n",
      "Jumlah reviewerID unik: 617170\n"
     ]
    }
   ],
   "source": [
    "# Menghitung jumlah total reviewerID unik\n",
    "num_unique_reviewers = df_reviews['reviewerID'].nunique()\n",
    "num_total_reviewers = len(df_reviews['reviewerID'])\n",
    "\n",
    "print(f\"Jumlah total reviewerID: {num_total_reviewers}\")\n",
    "print(f\"Jumlah reviewerID unik: {num_unique_reviewers}\")"
   ]
  },
  {
   "cell_type": "code",
   "execution_count": 40,
   "metadata": {},
   "outputs": [
    {
     "name": "stdout",
     "output_type": "stream",
     "text": [
      "Jumlah baris dalam dataset: 925636\n"
     ]
    }
   ],
   "source": [
    "# Menghitung jumlah baris dalam dataset\n",
    "num_rows = len(df_reviews)\n",
    "\n",
    "# Menampilkan jumlah baris\n",
    "print(f\"Jumlah baris dalam dataset: {num_rows}\")"
   ]
  },
  {
   "cell_type": "code",
   "execution_count": 41,
   "metadata": {},
   "outputs": [
    {
     "data": {
      "text/html": [
       "<div>\n",
       "<style scoped>\n",
       "    .dataframe tbody tr th:only-of-type {\n",
       "        vertical-align: middle;\n",
       "    }\n",
       "\n",
       "    .dataframe tbody tr th {\n",
       "        vertical-align: top;\n",
       "    }\n",
       "\n",
       "    .dataframe thead th {\n",
       "        text-align: right;\n",
       "    }\n",
       "</style>\n",
       "<table border=\"1\" class=\"dataframe\">\n",
       "  <thead>\n",
       "    <tr style=\"text-align: right;\">\n",
       "      <th></th>\n",
       "      <th>Number of Reviewers</th>\n",
       "      <th>Reviewer IDs</th>\n",
       "    </tr>\n",
       "    <tr>\n",
       "      <th>asin</th>\n",
       "      <th></th>\n",
       "      <th></th>\n",
       "    </tr>\n",
       "  </thead>\n",
       "  <tbody>\n",
       "    <tr>\n",
       "      <th>GA2TCMBVGM</th>\n",
       "      <td>272</td>\n",
       "      <td>[60157, 253582, 295477, 101963, 228413, 220050...</td>\n",
       "    </tr>\n",
       "    <tr>\n",
       "      <th>GA2TINBUGU</th>\n",
       "      <td>1</td>\n",
       "      <td>[476721]</td>\n",
       "    </tr>\n",
       "    <tr>\n",
       "      <th>GA2TOOBQGA</th>\n",
       "      <td>29</td>\n",
       "      <td>[338315, 1474, 234244, 571883, 375289, 184513,...</td>\n",
       "    </tr>\n",
       "    <tr>\n",
       "      <th>GA2TOOBQGQ</th>\n",
       "      <td>35</td>\n",
       "      <td>[299288, 182647, 34939, 292569, 575668, 246618...</td>\n",
       "    </tr>\n",
       "    <tr>\n",
       "      <th>GA3DCNJRGE</th>\n",
       "      <td>81</td>\n",
       "      <td>[305549, 18450, 369726, 400197, 214062, 307628...</td>\n",
       "    </tr>\n",
       "    <tr>\n",
       "      <th>...</th>\n",
       "      <td>...</td>\n",
       "      <td>...</td>\n",
       "    </tr>\n",
       "    <tr>\n",
       "      <th>GYZTANJSGI</th>\n",
       "      <td>2413</td>\n",
       "      <td>[322783, 194475, 52895, 111701, 106818, 587358...</td>\n",
       "    </tr>\n",
       "    <tr>\n",
       "      <th>GYZTANJSGM</th>\n",
       "      <td>836</td>\n",
       "      <td>[45388, 347415, 298945, 398816, 171174, 174625...</td>\n",
       "    </tr>\n",
       "    <tr>\n",
       "      <th>GYZTANJSGQ</th>\n",
       "      <td>1459</td>\n",
       "      <td>[477764, 218374, 239014, 612242, 281704, 25188...</td>\n",
       "    </tr>\n",
       "    <tr>\n",
       "      <th>GYZTANJSGU</th>\n",
       "      <td>256</td>\n",
       "      <td>[458991, 590625, 278891, 309693, 357127, 13120...</td>\n",
       "    </tr>\n",
       "    <tr>\n",
       "      <th>GYZTANJSGY</th>\n",
       "      <td>685</td>\n",
       "      <td>[610423, 456766, 602671, 328894, 150113, 32173...</td>\n",
       "    </tr>\n",
       "  </tbody>\n",
       "</table>\n",
       "<p>772 rows × 2 columns</p>\n",
       "</div>"
      ],
      "text/plain": [
       "            Number of Reviewers  \\\n",
       "asin                              \n",
       "GA2TCMBVGM                  272   \n",
       "GA2TINBUGU                    1   \n",
       "GA2TOOBQGA                   29   \n",
       "GA2TOOBQGQ                   35   \n",
       "GA3DCNJRGE                   81   \n",
       "...                         ...   \n",
       "GYZTANJSGI                 2413   \n",
       "GYZTANJSGM                  836   \n",
       "GYZTANJSGQ                 1459   \n",
       "GYZTANJSGU                  256   \n",
       "GYZTANJSGY                  685   \n",
       "\n",
       "                                                 Reviewer IDs  \n",
       "asin                                                           \n",
       "GA2TCMBVGM  [60157, 253582, 295477, 101963, 228413, 220050...  \n",
       "GA2TINBUGU                                           [476721]  \n",
       "GA2TOOBQGA  [338315, 1474, 234244, 571883, 375289, 184513,...  \n",
       "GA2TOOBQGQ  [299288, 182647, 34939, 292569, 575668, 246618...  \n",
       "GA3DCNJRGE  [305549, 18450, 369726, 400197, 214062, 307628...  \n",
       "...                                                       ...  \n",
       "GYZTANJSGI  [322783, 194475, 52895, 111701, 106818, 587358...  \n",
       "GYZTANJSGM  [45388, 347415, 298945, 398816, 171174, 174625...  \n",
       "GYZTANJSGQ  [477764, 218374, 239014, 612242, 281704, 25188...  \n",
       "GYZTANJSGU  [458991, 590625, 278891, 309693, 357127, 13120...  \n",
       "GYZTANJSGY  [610423, 456766, 602671, 328894, 150113, 32173...  \n",
       "\n",
       "[772 rows x 2 columns]"
      ]
     },
     "execution_count": 41,
     "metadata": {},
     "output_type": "execute_result"
    }
   ],
   "source": [
    "# Group by 'asin' and aggregate reviewerID into a list\n",
    "reviewer_counts = df_reviews.groupby('asin')['reviewerID'].agg(['nunique', list])\n",
    "\n",
    "# Rename columns for clarity\n",
    "reviewer_counts = reviewer_counts.rename(columns={'nunique': 'Number of Reviewers', 'list': 'Reviewer IDs'})\n",
    "\n",
    "reviewer_counts"
   ]
  },
  {
   "cell_type": "code",
   "execution_count": 42,
   "metadata": {},
   "outputs": [
    {
     "name": "stdout",
     "output_type": "stream",
     "text": [
      "<class 'pandas.core.frame.DataFrame'>\n",
      "RangeIndex: 925636 entries, 0 to 925635\n",
      "Data columns (total 3 columns):\n",
      " #   Column      Non-Null Count   Dtype \n",
      "---  ------      --------------   ----- \n",
      " 0   reviewerID  925636 non-null  int64 \n",
      " 1   asin        925636 non-null  object\n",
      " 2   title       925636 non-null  object\n",
      "dtypes: int64(1), object(2)\n",
      "memory usage: 21.2+ MB\n"
     ]
    }
   ],
   "source": [
    "df_reviews.info()"
   ]
  },
  {
   "cell_type": "code",
   "execution_count": 43,
   "metadata": {},
   "outputs": [
    {
     "name": "stdout",
     "output_type": "stream",
     "text": [
      "772\n"
     ]
    }
   ],
   "source": [
    "print(df_reviews['asin'].nunique())  # Menghitung jumlah item unik"
   ]
  },
  {
   "cell_type": "code",
   "execution_count": 44,
   "metadata": {},
   "outputs": [
    {
     "name": "stdout",
     "output_type": "stream",
     "text": [
      "      item_id  rating                                          entity_id  \\\n",
      "0  GAYDAMJVGI     1.0  res:Steve_Green:_Hide_'em_in_Your_Heart:_13_Bi...   \n",
      "1  GAYDAMJVGI     1.0  res:Steve_Green:_Hide_'em_in_Your_Heart:_13_Bi...   \n",
      "2  GAYDAMJVGI     1.0  res:Steve_Green:_Hide_'em_in_Your_Heart:_13_Bi...   \n",
      "3  GAYDAMJVGI     1.0  res:Steve_Green:_Hide_'em_in_Your_Heart:_13_Bi...   \n",
      "4  GAYDAMJVGI     1.0  res:Steve_Green:_Hide_'em_in_Your_Heart:_13_Bi...   \n",
      "\n",
      "                                             head_id   relation_id  \\\n",
      "0  res:Steve_Green:_Hide_'em_in_Your_Heart:_13_Bi...  dbo:director   \n",
      "1  res:Steve_Green:_Hide_'em_in_Your_Heart:_13_Bi...  dbo:composer   \n",
      "2  res:Steve_Green:_Hide_'em_in_Your_Heart:_13_Bi...  dbo:producer   \n",
      "3  res:Steve_Green:_Hide_'em_in_Your_Heart:_13_Bi...  dbo:starring   \n",
      "4  res:Steve_Green:_Hide_'em_in_Your_Heart:_13_Bi...   dct:subject   \n",
      "\n",
      "                tail_id  \n",
      "0  res:Michael_Merriman  \n",
      "1       res:Steve_Green  \n",
      "2    res:Lauralee_Keach  \n",
      "3       res:Steve_Green  \n",
      "4      cat:Christianity  \n"
     ]
    }
   ],
   "source": [
    "df_movies = pd.read_csv('KGLLM_ChatGPT_Movies&TV_Unique.csv')\n",
    "\n",
    "print(df_movies.head())"
   ]
  },
  {
   "cell_type": "code",
   "execution_count": 45,
   "metadata": {},
   "outputs": [
    {
     "name": "stdout",
     "output_type": "stream",
     "text": [
      "<class 'pandas.core.frame.DataFrame'>\n",
      "RangeIndex: 8351 entries, 0 to 8350\n",
      "Data columns (total 6 columns):\n",
      " #   Column       Non-Null Count  Dtype  \n",
      "---  ------       --------------  -----  \n",
      " 0   item_id      8351 non-null   object \n",
      " 1   rating       8351 non-null   float64\n",
      " 2   entity_id    8351 non-null   object \n",
      " 3   head_id      8351 non-null   object \n",
      " 4   relation_id  8351 non-null   object \n",
      " 5   tail_id      8351 non-null   object \n",
      "dtypes: float64(1), object(5)\n",
      "memory usage: 391.6+ KB\n"
     ]
    }
   ],
   "source": [
    "df_movies.info()"
   ]
  },
  {
   "cell_type": "code",
   "execution_count": 46,
   "metadata": {},
   "outputs": [
    {
     "name": "stdout",
     "output_type": "stream",
     "text": [
      "772\n"
     ]
    }
   ],
   "source": [
    "print(df_movies['item_id'].nunique())  # Menghitung jumlah item unik"
   ]
  },
  {
   "cell_type": "code",
   "execution_count": 47,
   "metadata": {},
   "outputs": [
    {
     "name": "stdout",
     "output_type": "stream",
     "text": [
      "Kolom di df_reviews: Index(['reviewerID', 'asin', 'title'], dtype='object')\n",
      "Kolom di df_movies: Index(['item_id', 'rating', 'entity_id', 'head_id', 'relation_id', 'tail_id'], dtype='object')\n"
     ]
    }
   ],
   "source": [
    "# Pastikan kolom yang tersedia\n",
    "print(\"Kolom di df_reviews:\", df_reviews.columns)\n",
    "print(\"Kolom di df_movies:\", df_movies.columns)"
   ]
  },
  {
   "cell_type": "code",
   "execution_count": null,
   "metadata": {},
   "outputs": [
    {
     "name": "stdout",
     "output_type": "stream",
     "text": [
      "Hasil merge disimpan ke Dataset_Movies_and_TV.csv\n"
     ]
    }
   ],
   "source": [
    "# import pandas as pd\n",
    "\n",
    "# # Pastikan hanya kolom yang diperlukan\n",
    "# df_reviews = df_reviews[['reviewerID', 'asin', 'title']]\n",
    "# df_movies = df_movies[['item_id', 'rating', 'entity_id', 'head_id', 'relation_id', 'tail_id']]\n",
    "\n",
    "# # Ubah nama kolom 'asin' di df_reviews menjadi 'item_id' agar cocok dengan df_movies\n",
    "# df_reviews = df_reviews.rename(columns={'asin': 'item_id'})\n",
    "\n",
    "# # Kelompokkan reviewerID berdasarkan item_id\n",
    "# reviewer_groups = df_reviews.groupby('item_id')['reviewerID'].agg(list).reset_index()\n",
    "\n",
    "# # Gabungkan dataset triplets dengan daftar reviewerID\n",
    "# df_movies = df_movies.merge(reviewer_groups, on='item_id', how='left')\n",
    "\n",
    "# # Fungsi untuk menghindari duplikat reviewerID dan memastikan jumlah baris sesuai\n",
    "# def expand_rows(df):\n",
    "#     result = []\n",
    "#     for _, row in df.iterrows():\n",
    "#         item_data = row.drop(labels=[\"reviewerID\"], errors='ignore').to_dict()\n",
    "#         reviewers = row[\"reviewerID\"] if isinstance(row[\"reviewerID\"], list) else []\n",
    "        \n",
    "#         # Jika jumlah reviewerID lebih besar dari jumlah triplet, kita akan menduplikasi baris item\n",
    "#         num_reviewers = len(reviewers)\n",
    "#         num_triplets = len(row.drop(labels=[\"reviewerID\"], errors='ignore'))\n",
    "        \n",
    "#         # Jika jumlah reviewerID lebih besar dari jumlah triplet, ganda itemnya\n",
    "#         if num_reviewers > num_triplets:\n",
    "#             repeated_item_data = [item_data] * num_reviewers\n",
    "#             for i, repeated_item in enumerate(repeated_item_data):\n",
    "#                 result.append({**repeated_item, \"reviewerID\": reviewers[i % num_reviewers]})\n",
    "#         else:\n",
    "#             # Jika jumlah reviewerID tidak lebih banyak dari triplet, maka buatkan per baris untuk setiap reviewer\n",
    "#             for reviewer in reviewers:\n",
    "#                 result.append({**item_data, \"reviewerID\": reviewer})\n",
    "#     return result\n",
    "\n",
    "# # Proses data dalam potongan kecil agar tidak memakan terlalu banyak memori\n",
    "# chunk_size = 10000  # Sesuaikan jika perlu\n",
    "# buffer = []\n",
    "\n",
    "# # Menghasilkan data yang sudah diperbaiki sesuai instruksi\n",
    "# expanded_data = expand_rows(df_movies)\n",
    "\n",
    "# # Tulis hasil ke file CSV dalam mode append untuk hemat memori\n",
    "# output_file = 'Dataset_Movies_and_TV.csv'\n",
    "\n",
    "# # Ambil kolom yang akan digunakan untuk header\n",
    "# header_cols = list(df_movies.drop(columns=[\"reviewerID\"], errors='ignore').columns) + [\"reviewerID\"]\n",
    "\n",
    "# # Tulis header ke file output\n",
    "# with open(output_file, 'w', encoding='utf-8', newline='') as f:\n",
    "#     pd.DataFrame(columns=header_cols).to_csv(f, index=False)  # Tulis header\n",
    "\n",
    "# # Proses data dalam potongan kecil dan menulis ke file\n",
    "# for i in range(0, len(expanded_data), chunk_size):\n",
    "#     buffer = expanded_data[i:i+chunk_size]\n",
    "#     pd.DataFrame(buffer).drop_duplicates().to_csv(output_file, mode='a', header=False, index=False)\n",
    "\n",
    "# print(f\"Hasil merge disimpan ke {output_file}\")"
   ]
  },
  {
   "cell_type": "code",
   "execution_count": null,
   "metadata": {},
   "outputs": [],
   "source": [
    "# Pastikan hanya kolom yang diperlukan\n",
    "df_reviews = df_reviews[['reviewerID', 'asin', 'title']]\n",
    "df_movies = df_movies[['item_id', 'rating', 'entity_id', 'head_id', 'relation_id', 'tail_id']]\n",
    "\n",
    "# Ubah nama kolom 'asin' di df_reviews menjadi 'item_id' agar cocok dengan df_movies\n",
    "df_reviews = df_reviews.rename(columns={'asin': 'item_id'})\n",
    "\n",
    "# Kelompokkan reviewerID berdasarkan item_id\n",
    "reviewer_groups = df_reviews.groupby('item_id')['reviewerID'].agg(list).reset_index()\n",
    "\n",
    "# Gabungkan dataset df_movies dengan daftar reviewerID\n",
    "df_movies = df_movies.merge(reviewer_groups, on='item_id', how='left')\n",
    "\n",
    "# Fungsi untuk memperbanyak triplet agar jumlahnya sesuai dengan jumlah reviewerID\n",
    "expanded_rows = []\n",
    "for _, row in df_movies.iterrows():\n",
    "    item_data = row.drop(labels=['reviewerID']).to_dict()\n",
    "    reviewers = row['reviewerID'] if isinstance(row['reviewerID'], list) else []\n",
    "    \n",
    "    num_triplets = len(df_movies[df_movies['item_id'] == row['item_id']])\n",
    "    num_reviewers = len(reviewers)\n",
    "    \n",
    "    if num_reviewers > num_triplets:\n",
    "        repeat_factor = (num_reviewers + num_triplets - 1) // num_triplets  # Pembulatan ke atas\n",
    "        triplet_expanded = [item_data] * repeat_factor  # Gandakan triplet\n",
    "    else:\n",
    "        triplet_expanded = [item_data] * num_triplets  # Biarkan tetap sama jika tidak perlu digandakan\n",
    "    \n",
    "    for triplet, reviewer in zip(triplet_expanded, reviewers):\n",
    "        new_row = triplet.copy()\n",
    "        new_row['reviewerID'] = reviewer\n",
    "        expanded_rows.append(new_row)\n",
    "\n",
    "# Konversi hasil ke DataFrame\n",
    "df_final = pd.DataFrame(expanded_rows)\n",
    "\n",
    "# Simpan hasil ke CSV\n",
    "output_file = 'Dataset_Movies_and_TV.csv'\n",
    "df_final.to_csv(output_file, index=False, encoding='utf-8')\n",
    "\n",
    "print(f\"Hasil merge disimpan ke {output_file}\")\n"
   ]
  },
  {
   "cell_type": "code",
   "execution_count": 49,
   "metadata": {},
   "outputs": [],
   "source": [
    "# # Nama file input dan output\n",
    "# input_file = 'Dataset_Movies_and_TV.csv'\n",
    "# output_file = 'Reviewer_Counts_Movies_and_TV.csv'\n",
    "\n",
    "# # Ukuran chunk untuk membaca file CSV bertahap\n",
    "# chunk_size = 50000  # Sesuaikan jika masih terjadi MemoryError\n",
    "\n",
    "# # Dictionary untuk menyimpan jumlah reviewer dan daftar reviewerID per item_id\n",
    "# reviewer_dict = {}\n",
    "\n",
    "# # Baca file dalam chunk\n",
    "# for chunk in pd.read_csv(input_file, chunksize=chunk_size, usecols=['item_id', 'reviewerID']):\n",
    "#     for item_id, reviewer_id in zip(chunk['item_id'], chunk['reviewerID']):\n",
    "#         if item_id not in reviewer_dict:\n",
    "#             reviewer_dict[item_id] = set()  # Gunakan set agar reviewerID unik\n",
    "#         reviewer_dict[item_id].add(reviewer_id)\n",
    "\n",
    "# # Konversi dictionary ke DataFrame\n",
    "# reviewer_counts = pd.DataFrame({\n",
    "#     'item_id': list(reviewer_dict.keys()),\n",
    "#     'Number of Reviewers': [len(revs) for revs in reviewer_dict.values()],\n",
    "#     'Reviewer IDs': [list(revs) for revs in reviewer_dict.values()]\n",
    "# })\n",
    "\n",
    "# # Simpan hasil ke file CSV\n",
    "# reviewer_counts.to_csv(output_file, index=False)\n",
    "\n",
    "# print(f\"Hasil perhitungan reviewer disimpan ke {output_file}\")"
   ]
  },
  {
   "cell_type": "code",
   "execution_count": 7,
   "metadata": {},
   "outputs": [
    {
     "name": "stdout",
     "output_type": "stream",
     "text": [
      "       item_id  rating                                          entity_id  \\\n",
      "0   GAYDAMJVGI     1.0  res:Steve_Green:_Hide_'em_in_Your_Heart:_13_Bi...   \n",
      "1   GAYDAMJVGI     1.0  res:Steve_Green:_Hide_'em_in_Your_Heart:_13_Bi...   \n",
      "2   GAYDAMJVGI     1.0  res:Steve_Green:_Hide_'em_in_Your_Heart:_13_Bi...   \n",
      "3   GAYDAMJVGI     1.0  res:Steve_Green:_Hide_'em_in_Your_Heart:_13_Bi...   \n",
      "4   GAYDAMJVGI     1.0  res:Steve_Green:_Hide_'em_in_Your_Heart:_13_Bi...   \n",
      "5   GAYDAMJVGI     1.0  res:Steve_Green:_Hide_'em_in_Your_Heart:_13_Bi...   \n",
      "6   GAYDAMJVGI     1.0  res:Steve_Green:_Hide_'em_in_Your_Heart:_13_Bi...   \n",
      "7   GAYDAMJVGI     1.0  res:Steve_Green:_Hide_'em_in_Your_Heart:_13_Bi...   \n",
      "8   GAYDAMJVGI     1.0  res:Steve_Green:_Hide_'em_in_Your_Heart:_13_Bi...   \n",
      "9   GAYDAMJVGI     1.0  res:Steve_Green:_Hide_'em_in_Your_Heart:_13_Bi...   \n",
      "10  GAYDAMJVGI     1.0  res:Steve_Green:_Hide_'em_in_Your_Heart:_13_Bi...   \n",
      "11  GAYDAMJVGI     1.0  res:Steve_Green:_Hide_'em_in_Your_Heart:_13_Bi...   \n",
      "12  GAYDAMJVGI     1.0  res:Steve_Green:_Hide_'em_in_Your_Heart:_13_Bi...   \n",
      "13  GAYDAMJVGI     1.0  res:Steve_Green:_Hide_'em_in_Your_Heart:_13_Bi...   \n",
      "14  GAYDAMJVGI     1.0  res:Steve_Green:_Hide_'em_in_Your_Heart:_13_Bi...   \n",
      "\n",
      "                                              head_id   relation_id  \\\n",
      "0   res:Steve_Green:_Hide_'em_in_Your_Heart:_13_Bi...  dbo:director   \n",
      "1   res:Steve_Green:_Hide_'em_in_Your_Heart:_13_Bi...  dbo:director   \n",
      "2   res:Steve_Green:_Hide_'em_in_Your_Heart:_13_Bi...  dbo:director   \n",
      "3   res:Steve_Green:_Hide_'em_in_Your_Heart:_13_Bi...  dbo:director   \n",
      "4   res:Steve_Green:_Hide_'em_in_Your_Heart:_13_Bi...  dbo:director   \n",
      "5   res:Steve_Green:_Hide_'em_in_Your_Heart:_13_Bi...  dbo:director   \n",
      "6   res:Steve_Green:_Hide_'em_in_Your_Heart:_13_Bi...  dbo:composer   \n",
      "7   res:Steve_Green:_Hide_'em_in_Your_Heart:_13_Bi...  dbo:composer   \n",
      "8   res:Steve_Green:_Hide_'em_in_Your_Heart:_13_Bi...  dbo:composer   \n",
      "9   res:Steve_Green:_Hide_'em_in_Your_Heart:_13_Bi...  dbo:composer   \n",
      "10  res:Steve_Green:_Hide_'em_in_Your_Heart:_13_Bi...  dbo:composer   \n",
      "11  res:Steve_Green:_Hide_'em_in_Your_Heart:_13_Bi...  dbo:composer   \n",
      "12  res:Steve_Green:_Hide_'em_in_Your_Heart:_13_Bi...  dbo:producer   \n",
      "13  res:Steve_Green:_Hide_'em_in_Your_Heart:_13_Bi...  dbo:producer   \n",
      "14  res:Steve_Green:_Hide_'em_in_Your_Heart:_13_Bi...  dbo:producer   \n",
      "\n",
      "                 tail_id  reviewerID  \n",
      "0   res:Michael_Merriman      586297  \n",
      "1   res:Michael_Merriman      226404  \n",
      "2   res:Michael_Merriman      178001  \n",
      "3   res:Michael_Merriman      388575  \n",
      "4   res:Michael_Merriman      515515  \n",
      "5   res:Michael_Merriman      367899  \n",
      "6        res:Steve_Green      586297  \n",
      "7        res:Steve_Green      226404  \n",
      "8        res:Steve_Green      178001  \n",
      "9        res:Steve_Green      388575  \n",
      "10       res:Steve_Green      515515  \n",
      "11       res:Steve_Green      367899  \n",
      "12    res:Lauralee_Keach      586297  \n",
      "13    res:Lauralee_Keach      226404  \n",
      "14    res:Lauralee_Keach      178001  \n"
     ]
    }
   ],
   "source": [
    "import pandas as pd\n",
    "\n",
    "df2 = pd.read_csv('Dataset_Movies_and_TV.csv')\n",
    "\n",
    "# Process the first chunk only to preview data\n",
    "print(df2.head(15))"
   ]
  },
  {
   "cell_type": "code",
   "execution_count": 3,
   "metadata": {},
   "outputs": [
    {
     "data": {
      "text/html": [
       "<div>\n",
       "<style scoped>\n",
       "    .dataframe tbody tr th:only-of-type {\n",
       "        vertical-align: middle;\n",
       "    }\n",
       "\n",
       "    .dataframe tbody tr th {\n",
       "        vertical-align: top;\n",
       "    }\n",
       "\n",
       "    .dataframe thead th {\n",
       "        text-align: right;\n",
       "    }\n",
       "</style>\n",
       "<table border=\"1\" class=\"dataframe\">\n",
       "  <thead>\n",
       "    <tr style=\"text-align: right;\">\n",
       "      <th></th>\n",
       "      <th>Number of Reviewers</th>\n",
       "      <th>Reviewer IDs</th>\n",
       "    </tr>\n",
       "    <tr>\n",
       "      <th>item_id</th>\n",
       "      <th></th>\n",
       "      <th></th>\n",
       "    </tr>\n",
       "  </thead>\n",
       "  <tbody>\n",
       "    <tr>\n",
       "      <th>GA2TCMBVGM</th>\n",
       "      <td>28</td>\n",
       "      <td>[60157, 253582, 295477, 101963, 228413, 220050...</td>\n",
       "    </tr>\n",
       "    <tr>\n",
       "      <th>GA2TINBUGU</th>\n",
       "      <td>1</td>\n",
       "      <td>[476721, 476721, 476721, 476721, 476721, 47672...</td>\n",
       "    </tr>\n",
       "    <tr>\n",
       "      <th>GA2TOOBQGA</th>\n",
       "      <td>4</td>\n",
       "      <td>[338315, 1474, 234244, 571883, 338315, 1474, 2...</td>\n",
       "    </tr>\n",
       "    <tr>\n",
       "      <th>GA2TOOBQGQ</th>\n",
       "      <td>4</td>\n",
       "      <td>[299288, 182647, 34939, 292569, 299288, 182647...</td>\n",
       "    </tr>\n",
       "    <tr>\n",
       "      <th>GA3DCNJRGE</th>\n",
       "      <td>8</td>\n",
       "      <td>[305549, 18450, 369726, 400197, 214062, 307628...</td>\n",
       "    </tr>\n",
       "    <tr>\n",
       "      <th>...</th>\n",
       "      <td>...</td>\n",
       "      <td>...</td>\n",
       "    </tr>\n",
       "    <tr>\n",
       "      <th>GYZTANJSGI</th>\n",
       "      <td>274</td>\n",
       "      <td>[322783, 194475, 52895, 111701, 106818, 587358...</td>\n",
       "    </tr>\n",
       "    <tr>\n",
       "      <th>GYZTANJSGM</th>\n",
       "      <td>83</td>\n",
       "      <td>[45388, 347415, 298945, 398816, 171174, 174625...</td>\n",
       "    </tr>\n",
       "    <tr>\n",
       "      <th>GYZTANJSGQ</th>\n",
       "      <td>147</td>\n",
       "      <td>[477764, 218374, 239014, 612242, 281704, 25188...</td>\n",
       "    </tr>\n",
       "    <tr>\n",
       "      <th>GYZTANJSGU</th>\n",
       "      <td>26</td>\n",
       "      <td>[458991, 590625, 278891, 309693, 357127, 13120...</td>\n",
       "    </tr>\n",
       "    <tr>\n",
       "      <th>GYZTANJSGY</th>\n",
       "      <td>43</td>\n",
       "      <td>[610423, 456766, 602671, 328894, 150113, 32173...</td>\n",
       "    </tr>\n",
       "  </tbody>\n",
       "</table>\n",
       "<p>772 rows × 2 columns</p>\n",
       "</div>"
      ],
      "text/plain": [
       "            Number of Reviewers  \\\n",
       "item_id                           \n",
       "GA2TCMBVGM                   28   \n",
       "GA2TINBUGU                    1   \n",
       "GA2TOOBQGA                    4   \n",
       "GA2TOOBQGQ                    4   \n",
       "GA3DCNJRGE                    8   \n",
       "...                         ...   \n",
       "GYZTANJSGI                  274   \n",
       "GYZTANJSGM                   83   \n",
       "GYZTANJSGQ                  147   \n",
       "GYZTANJSGU                   26   \n",
       "GYZTANJSGY                   43   \n",
       "\n",
       "                                                 Reviewer IDs  \n",
       "item_id                                                        \n",
       "GA2TCMBVGM  [60157, 253582, 295477, 101963, 228413, 220050...  \n",
       "GA2TINBUGU  [476721, 476721, 476721, 476721, 476721, 47672...  \n",
       "GA2TOOBQGA  [338315, 1474, 234244, 571883, 338315, 1474, 2...  \n",
       "GA2TOOBQGQ  [299288, 182647, 34939, 292569, 299288, 182647...  \n",
       "GA3DCNJRGE  [305549, 18450, 369726, 400197, 214062, 307628...  \n",
       "...                                                       ...  \n",
       "GYZTANJSGI  [322783, 194475, 52895, 111701, 106818, 587358...  \n",
       "GYZTANJSGM  [45388, 347415, 298945, 398816, 171174, 174625...  \n",
       "GYZTANJSGQ  [477764, 218374, 239014, 612242, 281704, 25188...  \n",
       "GYZTANJSGU  [458991, 590625, 278891, 309693, 357127, 13120...  \n",
       "GYZTANJSGY  [610423, 456766, 602671, 328894, 150113, 32173...  \n",
       "\n",
       "[772 rows x 2 columns]"
      ]
     },
     "execution_count": 3,
     "metadata": {},
     "output_type": "execute_result"
    }
   ],
   "source": [
    "# Group by 'asin' and aggregate reviewerID into a list\n",
    "reviewer_counts = df2.groupby('item_id')['reviewerID'].agg(['nunique', list])\n",
    "\n",
    "# Rename columns for clarity\n",
    "reviewer_counts = reviewer_counts.rename(columns={'nunique': 'Number of Reviewers', 'list': 'Reviewer IDs'})\n",
    "\n",
    "reviewer_counts"
   ]
  },
  {
   "cell_type": "code",
   "execution_count": 4,
   "metadata": {},
   "outputs": [
    {
     "name": "stdout",
     "output_type": "stream",
     "text": [
      "<class 'pandas.core.frame.DataFrame'>\n",
      "RangeIndex: 934345 entries, 0 to 934344\n",
      "Data columns (total 7 columns):\n",
      " #   Column       Non-Null Count   Dtype  \n",
      "---  ------       --------------   -----  \n",
      " 0   item_id      934345 non-null  object \n",
      " 1   rating       934345 non-null  float64\n",
      " 2   entity_id    934345 non-null  object \n",
      " 3   head_id      934345 non-null  object \n",
      " 4   relation_id  934345 non-null  object \n",
      " 5   tail_id      934345 non-null  object \n",
      " 6   reviewerID   934345 non-null  int64  \n",
      "dtypes: float64(1), int64(1), object(5)\n",
      "memory usage: 49.9+ MB\n"
     ]
    }
   ],
   "source": [
    "df2.info()"
   ]
  },
  {
   "cell_type": "code",
   "execution_count": 5,
   "metadata": {},
   "outputs": [
    {
     "name": "stdout",
     "output_type": "stream",
     "text": [
      "772\n"
     ]
    }
   ],
   "source": [
    "print(df2['item_id'].nunique())"
   ]
  },
  {
   "cell_type": "code",
   "execution_count": 6,
   "metadata": {},
   "outputs": [],
   "source": [
    "# # Load dataset\n",
    "# file_path = 'Dataset_Movies_and_TV.csv'\n",
    "# df = pd.read_csv(file_path)\n",
    "\n",
    "# # Cek jumlah baris sebelum menghapus duplikat\n",
    "# num_rows_before = len(df)\n",
    "\n",
    "# # Cek jumlah baris yang duplikat (semua atribut sama)\n",
    "# duplicated_rows = df.duplicated(keep=False)\n",
    "# num_duplicates = duplicated_rows.sum()\n",
    "\n",
    "# # Menampilkan contoh duplikat jika ada\n",
    "# if num_duplicates > 0:\n",
    "#     print(\"Contoh baris duplikat:\")\n",
    "#     print(df[duplicated_rows].head())\n",
    "\n",
    "# print(f\"Jumlah total baris: {num_rows_before}\")\n",
    "# print(f\"Jumlah baris duplikat: {num_duplicates}\")"
   ]
  }
 ],
 "metadata": {
  "kernelspec": {
   "display_name": "base",
   "language": "python",
   "name": "python3"
  },
  "language_info": {
   "codemirror_mode": {
    "name": "ipython",
    "version": 3
   },
   "file_extension": ".py",
   "mimetype": "text/x-python",
   "name": "python",
   "nbconvert_exporter": "python",
   "pygments_lexer": "ipython3",
   "version": "3.12.4"
  }
 },
 "nbformat": 4,
 "nbformat_minor": 2
}
