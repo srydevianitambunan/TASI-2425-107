{
 "cells": [
  {
   "cell_type": "code",
   "execution_count": 1,
   "metadata": {},
   "outputs": [],
   "source": [
    "import pandas as pd"
   ]
  },
  {
   "cell_type": "code",
   "execution_count": 2,
   "metadata": {},
   "outputs": [
    {
     "name": "stdout",
     "output_type": "stream",
     "text": [
      "   reviewerID        asin                                       title\n",
      "0      366595  MNTGGZBSGA  Heavenly Highway Hymns: Shaped-Note Hymnal\n",
      "1      591833  MNTGGZBSGA  Heavenly Highway Hymns: Shaped-Note Hymnal\n",
      "2      222211  MNTGGZBSGA  Heavenly Highway Hymns: Shaped-Note Hymnal\n",
      "3      351171  MNTGGZBSGA  Heavenly Highway Hymns: Shaped-Note Hymnal\n",
      "4      284978  MNTGGZBSGA  Heavenly Highway Hymns: Shaped-Note Hymnal\n"
     ]
    }
   ],
   "source": [
    "# Membaca file CSV hasil merge\n",
    "df_reviews = pd.read_csv('Attributes_Books.csv')\n",
    "\n",
    "# Menampilkan 5 baris teratas\n",
    "print(df_reviews.head())"
   ]
  },
  {
   "cell_type": "code",
   "execution_count": 3,
   "metadata": {},
   "outputs": [
    {
     "name": "stdout",
     "output_type": "stream",
     "text": [
      "Jumlah total reviewerID: 752034\n",
      "Jumlah reviewerID unik: 598882\n"
     ]
    }
   ],
   "source": [
    "# Menghitung jumlah total reviewerID unik\n",
    "num_unique_reviewers = df_reviews['reviewerID'].nunique()\n",
    "num_total_reviewers = len(df_reviews['reviewerID'])\n",
    "\n",
    "print(f\"Jumlah total reviewerID: {num_total_reviewers}\")\n",
    "print(f\"Jumlah reviewerID unik: {num_unique_reviewers}\")"
   ]
  },
  {
   "cell_type": "code",
   "execution_count": 4,
   "metadata": {},
   "outputs": [
    {
     "data": {
      "text/html": [
       "<div>\n",
       "<style scoped>\n",
       "    .dataframe tbody tr th:only-of-type {\n",
       "        vertical-align: middle;\n",
       "    }\n",
       "\n",
       "    .dataframe tbody tr th {\n",
       "        vertical-align: top;\n",
       "    }\n",
       "\n",
       "    .dataframe thead th {\n",
       "        text-align: right;\n",
       "    }\n",
       "</style>\n",
       "<table border=\"1\" class=\"dataframe\">\n",
       "  <thead>\n",
       "    <tr style=\"text-align: right;\">\n",
       "      <th></th>\n",
       "      <th>Number of Reviewers</th>\n",
       "      <th>Reviewer IDs</th>\n",
       "    </tr>\n",
       "    <tr>\n",
       "      <th>asin</th>\n",
       "      <th></th>\n",
       "      <th></th>\n",
       "    </tr>\n",
       "  </thead>\n",
       "  <tbody>\n",
       "    <tr>\n",
       "      <th>G42DANZRME</th>\n",
       "      <td>183</td>\n",
       "      <td>[23883, 294127, 64389, 190743, 33764, 344009, ...</td>\n",
       "    </tr>\n",
       "    <tr>\n",
       "      <th>G42DAYJQGJ</th>\n",
       "      <td>3</td>\n",
       "      <td>[479687, 592526, 52742]</td>\n",
       "    </tr>\n",
       "    <tr>\n",
       "      <th>G42DGMBWMV</th>\n",
       "      <td>2</td>\n",
       "      <td>[477594, 75541]</td>\n",
       "    </tr>\n",
       "    <tr>\n",
       "      <th>G42DGMZZGR</th>\n",
       "      <td>30</td>\n",
       "      <td>[220251, 154822, 238892, 488623, 405260, 41196...</td>\n",
       "    </tr>\n",
       "    <tr>\n",
       "      <th>G42DGN3EGE</th>\n",
       "      <td>8</td>\n",
       "      <td>[70248, 471659, 60374, 51963, 581820, 587820, ...</td>\n",
       "    </tr>\n",
       "    <tr>\n",
       "      <th>...</th>\n",
       "      <td>...</td>\n",
       "      <td>...</td>\n",
       "    </tr>\n",
       "    <tr>\n",
       "      <th>MZTGGNJYGE</th>\n",
       "      <td>33</td>\n",
       "      <td>[331459, 96848, 396819, 192864, 399208, 237000...</td>\n",
       "    </tr>\n",
       "    <tr>\n",
       "      <th>MZTGINJSMY</th>\n",
       "      <td>7</td>\n",
       "      <td>[551863, 264251, 359218, 285945, 321714, 97667...</td>\n",
       "    </tr>\n",
       "    <tr>\n",
       "      <th>MZTGKYLCMQ</th>\n",
       "      <td>2</td>\n",
       "      <td>[156194, 358726]</td>\n",
       "    </tr>\n",
       "    <tr>\n",
       "      <th>MZTGKZDGGV</th>\n",
       "      <td>8</td>\n",
       "      <td>[583033, 155028, 414584, 366043, 264990, 39629...</td>\n",
       "    </tr>\n",
       "    <tr>\n",
       "      <th>MZTGKZLEHA</th>\n",
       "      <td>162</td>\n",
       "      <td>[254720, 576211, 266594, 13404, 482159, 545943...</td>\n",
       "    </tr>\n",
       "  </tbody>\n",
       "</table>\n",
       "<p>4271 rows × 2 columns</p>\n",
       "</div>"
      ],
      "text/plain": [
       "            Number of Reviewers  \\\n",
       "asin                              \n",
       "G42DANZRME                  183   \n",
       "G42DAYJQGJ                    3   \n",
       "G42DGMBWMV                    2   \n",
       "G42DGMZZGR                   30   \n",
       "G42DGN3EGE                    8   \n",
       "...                         ...   \n",
       "MZTGGNJYGE                   33   \n",
       "MZTGINJSMY                    7   \n",
       "MZTGKYLCMQ                    2   \n",
       "MZTGKZDGGV                    8   \n",
       "MZTGKZLEHA                  162   \n",
       "\n",
       "                                                 Reviewer IDs  \n",
       "asin                                                           \n",
       "G42DANZRME  [23883, 294127, 64389, 190743, 33764, 344009, ...  \n",
       "G42DAYJQGJ                            [479687, 592526, 52742]  \n",
       "G42DGMBWMV                                    [477594, 75541]  \n",
       "G42DGMZZGR  [220251, 154822, 238892, 488623, 405260, 41196...  \n",
       "G42DGN3EGE  [70248, 471659, 60374, 51963, 581820, 587820, ...  \n",
       "...                                                       ...  \n",
       "MZTGGNJYGE  [331459, 96848, 396819, 192864, 399208, 237000...  \n",
       "MZTGINJSMY  [551863, 264251, 359218, 285945, 321714, 97667...  \n",
       "MZTGKYLCMQ                                   [156194, 358726]  \n",
       "MZTGKZDGGV  [583033, 155028, 414584, 366043, 264990, 39629...  \n",
       "MZTGKZLEHA  [254720, 576211, 266594, 13404, 482159, 545943...  \n",
       "\n",
       "[4271 rows x 2 columns]"
      ]
     },
     "execution_count": 4,
     "metadata": {},
     "output_type": "execute_result"
    }
   ],
   "source": [
    "# Group by 'asin' and aggregate reviewerID into a list\n",
    "reviewer_counts = df_reviews.groupby('asin')['reviewerID'].agg(['nunique', list])\n",
    "\n",
    "# Rename columns for clarity\n",
    "reviewer_counts = reviewer_counts.rename(columns={'nunique': 'Number of Reviewers', 'list': 'Reviewer IDs'})\n",
    "\n",
    "reviewer_counts"
   ]
  },
  {
   "cell_type": "code",
   "execution_count": 5,
   "metadata": {},
   "outputs": [
    {
     "name": "stdout",
     "output_type": "stream",
     "text": [
      "<class 'pandas.core.frame.DataFrame'>\n",
      "RangeIndex: 752034 entries, 0 to 752033\n",
      "Data columns (total 3 columns):\n",
      " #   Column      Non-Null Count   Dtype \n",
      "---  ------      --------------   ----- \n",
      " 0   reviewerID  752034 non-null  int64 \n",
      " 1   asin        752034 non-null  object\n",
      " 2   title       752034 non-null  object\n",
      "dtypes: int64(1), object(2)\n",
      "memory usage: 17.2+ MB\n"
     ]
    }
   ],
   "source": [
    "df_reviews.info()"
   ]
  },
  {
   "cell_type": "code",
   "execution_count": 6,
   "metadata": {},
   "outputs": [
    {
     "name": "stdout",
     "output_type": "stream",
     "text": [
      "      item_id  rating                                       entity_id  \\\n",
      "0  MNTGGZBSGA     1.0  res:Heavenly_Highway_Hymns:_Shaped-Note_Hymnal   \n",
      "1  MNTGGZBSGA     1.0  res:Heavenly_Highway_Hymns:_Shaped-Note_Hymnal   \n",
      "2  MNTGGZBSGA     1.0  res:Heavenly_Highway_Hymns:_Shaped-Note_Hymnal   \n",
      "3  MNTGGZBSGA     1.0  res:Heavenly_Highway_Hymns:_Shaped-Note_Hymnal   \n",
      "4  MNTGGZBSGA     1.0  res:Heavenly_Highway_Hymns:_Shaped-Note_Hymnal   \n",
      "\n",
      "                                          head_id        relation_id  \\\n",
      "0  res:Heavenly_Highway_Hymns:_Shaped-Note_Hymnal        dct:subject   \n",
      "1  res:Heavenly_Highway_Hymns:_Shaped-Note_Hymnal         dbo:author   \n",
      "2  res:Heavenly_Highway_Hymns:_Shaped-Note_Hymnal       dbo:composer   \n",
      "3  res:Heavenly_Highway_Hymns:_Shaped-Note_Hymnal          dbo:genre   \n",
      "4  res:Heavenly_Highway_Hymns:_Shaped-Note_Hymnal  dbo:literaryGenre   \n",
      "\n",
      "               tail_id  \n",
      "0           cat:Hymnal  \n",
      "1        res:John_Shaw  \n",
      "2      res:B._F._White  \n",
      "3  cat:Christian_music  \n",
      "4  cat:Religious_music  \n"
     ]
    }
   ],
   "source": [
    "df_books = pd.read_csv('KGLLM_ChatGPT_Books_Unique.csv')\n",
    "\n",
    "print(df_books.head())"
   ]
  },
  {
   "cell_type": "code",
   "execution_count": 7,
   "metadata": {},
   "outputs": [
    {
     "name": "stdout",
     "output_type": "stream",
     "text": [
      "<class 'pandas.core.frame.DataFrame'>\n",
      "RangeIndex: 42255 entries, 0 to 42254\n",
      "Data columns (total 6 columns):\n",
      " #   Column       Non-Null Count  Dtype  \n",
      "---  ------       --------------  -----  \n",
      " 0   item_id      42255 non-null  object \n",
      " 1   rating       42255 non-null  float64\n",
      " 2   entity_id    42255 non-null  object \n",
      " 3   head_id      42255 non-null  object \n",
      " 4   relation_id  42255 non-null  object \n",
      " 5   tail_id      42255 non-null  object \n",
      "dtypes: float64(1), object(5)\n",
      "memory usage: 1.9+ MB\n"
     ]
    }
   ],
   "source": [
    "df_books.info()"
   ]
  },
  {
   "cell_type": "code",
   "execution_count": 8,
   "metadata": {},
   "outputs": [
    {
     "name": "stdout",
     "output_type": "stream",
     "text": [
      "Kolom di df_reviews: Index(['reviewerID', 'asin', 'title'], dtype='object')\n",
      "Kolom di df_books: Index(['item_id', 'rating', 'entity_id', 'head_id', 'relation_id', 'tail_id'], dtype='object')\n"
     ]
    }
   ],
   "source": [
    "# Pastikan kolom yang tersedia\n",
    "print(\"Kolom di df_reviews:\", df_reviews.columns)\n",
    "print(\"Kolom di df_books:\", df_books.columns)"
   ]
  },
  {
   "cell_type": "code",
   "execution_count": 9,
   "metadata": {},
   "outputs": [
    {
     "name": "stdout",
     "output_type": "stream",
     "text": [
      "Hasil merge disimpan ke Dataset_Books.csv\n"
     ]
    }
   ],
   "source": [
    "# Pastikan hanya kolom yang diperlukan\n",
    "df_reviews = df_reviews[['reviewerID', 'asin', 'title']]\n",
    "df_books = df_books[['item_id', 'rating', 'entity_id', 'head_id', 'relation_id', 'tail_id']]\n",
    "\n",
    "# Ubah nama kolom 'asin' di df_reviews menjadi 'item_id' agar cocok dengan df_books\n",
    "df_reviews = df_reviews.rename(columns={'asin': 'item_id'})\n",
    "\n",
    "# Kelompokkan reviewerID berdasarkan item_id\n",
    "reviewer_groups = df_reviews.groupby('item_id')['reviewerID'].agg(list).reset_index()\n",
    "\n",
    "# Gabungkan dataset df_books dengan daftar reviewerID\n",
    "df_books = df_books.merge(reviewer_groups, on='item_id', how='left')\n",
    "\n",
    "# Fungsi untuk memperbanyak triplet agar jumlahnya sesuai dengan jumlah reviewerID\n",
    "expanded_rows = []\n",
    "for _, row in df_books.iterrows():\n",
    "    item_data = row.drop(labels=['reviewerID']).to_dict()\n",
    "    reviewers = row['reviewerID'] if isinstance(row['reviewerID'], list) else []\n",
    "    \n",
    "    num_triplets = len(df_books[df_books['item_id'] == row['item_id']])\n",
    "    num_reviewers = len(reviewers)\n",
    "    \n",
    "    if num_reviewers > num_triplets:\n",
    "        repeat_factor = (num_reviewers + num_triplets - 1) // num_triplets  # Pembulatan ke atas\n",
    "        triplet_expanded = [item_data] * repeat_factor  # Gandakan triplet\n",
    "    else:\n",
    "        triplet_expanded = [item_data] * num_triplets  # Biarkan tetap sama jika tidak perlu digandakan\n",
    "    \n",
    "    for triplet, reviewer in zip(triplet_expanded, reviewers):\n",
    "        new_row = triplet.copy()\n",
    "        new_row['reviewerID'] = reviewer\n",
    "        expanded_rows.append(new_row)\n",
    "\n",
    "# Konversi hasil ke DataFrame\n",
    "df_final = pd.DataFrame(expanded_rows)\n",
    "\n",
    "# Simpan hasil ke CSV\n",
    "output_file = 'Dataset_Books.csv'\n",
    "df_final.to_csv(output_file, index=False, encoding='utf-8')\n",
    "\n",
    "print(f\"Hasil merge disimpan ke {output_file}\")\n"
   ]
  },
  {
   "cell_type": "code",
   "execution_count": 10,
   "metadata": {},
   "outputs": [],
   "source": [
    "# # Pastikan hanya kolom yang diperlukan\n",
    "# df_reviews = df_reviews[['reviewerID', 'asin', 'title']]\n",
    "# df_books = df_books[['item_id', 'rating', 'entity_id', 'head_id', 'relation_id', 'tail_id']]\n",
    "\n",
    "# # Ubah nama kolom 'asin' di df_reviews menjadi 'item_id' agar cocok dengan df_movies\n",
    "# df_reviews = df_reviews.rename(columns={'asin': 'item_id'})\n",
    "\n",
    "# # Kelompokkan reviewerID berdasarkan item_id\n",
    "# reviewer_groups = df_reviews.groupby('item_id')['reviewerID'].apply(list).reset_index()\n",
    "\n",
    "# # Gabungkan dataset triplets dengan daftar reviewerID\n",
    "# df_books = df_books.merge(reviewer_groups, on='item_id', how='left')\n",
    "\n",
    "# # Fungsi generator untuk menghindari penggunaan memori berlebihan\n",
    "# def expand_rows(df):\n",
    "#     for _, row in df.iterrows():\n",
    "#         item_data = row.drop(labels=[\"reviewerID\"], errors='ignore').to_dict()\n",
    "#         reviewers = row[\"reviewerID\"] if isinstance(row[\"reviewerID\"], list) else []\n",
    "        \n",
    "#         if reviewers:\n",
    "#             for reviewer in reviewers:\n",
    "#                 yield {**item_data, \"reviewerID\": reviewer}\n",
    "#         else:\n",
    "#             yield item_data  # Tambahkan tanpa reviewer jika tidak ada\n",
    "\n",
    "# # Nama file output\n",
    "# output_file = 'Dataset_Books.csv'\n",
    "\n",
    "# # Ambil kolom yang akan digunakan untuk header\n",
    "# header_cols = list(df_books.drop(columns=[\"reviewerID\"], errors='ignore').columns) + [\"reviewerID\"]\n",
    "\n",
    "# # Tulis hasil ke file CSV dalam mode append untuk hemat memori\n",
    "# with open(output_file, 'w', encoding='utf-8', newline='') as f:\n",
    "#     pd.DataFrame(columns=header_cols).to_csv(f, index=False)  # Tulis header\n",
    "\n",
    "# # Proses data dalam potongan kecil agar tidak memakan terlalu banyak memori\n",
    "# chunk_size = 10000  # Sesuaikan jika perlu\n",
    "# buffer = []\n",
    "\n",
    "# for row in expand_rows(df_books):\n",
    "#     buffer.append(row)\n",
    "#     if len(buffer) >= chunk_size:\n",
    "#         pd.DataFrame(buffer).to_csv(output_file, mode='a', header=False, index=False)\n",
    "#         buffer = []  # Kosongkan buffer untuk menghindari MemoryError\n",
    "\n",
    "# # Tulis sisa data yang belum disimpan\n",
    "# if buffer:\n",
    "#     pd.DataFrame(buffer).to_csv(output_file, mode='a', header=False, index=False)\n",
    "\n",
    "# print(f\"Hasil merge disimpan ke {output_file}\")"
   ]
  },
  {
   "cell_type": "code",
   "execution_count": 11,
   "metadata": {},
   "outputs": [
    {
     "name": "stdout",
     "output_type": "stream",
     "text": [
      "Hasil perhitungan reviewer disimpan ke Reviewer_Counts_Books.csv\n"
     ]
    }
   ],
   "source": [
    "# Nama file input dan output\n",
    "input_file = 'Dataset_Books.csv'\n",
    "output_file = 'Reviewer_Counts_Books.csv'\n",
    "\n",
    "# Ukuran chunk untuk membaca file CSV bertahap\n",
    "chunk_size = 50000  # Sesuaikan jika masih terjadi MemoryError\n",
    "\n",
    "# Dictionary untuk menyimpan jumlah reviewer dan daftar reviewerID per item_id\n",
    "reviewer_dict = {}\n",
    "\n",
    "# Baca file dalam chunk\n",
    "for chunk in pd.read_csv(input_file, chunksize=chunk_size, usecols=['item_id', 'reviewerID']):\n",
    "    for item_id, reviewer_id in zip(chunk['item_id'], chunk['reviewerID']):\n",
    "        if item_id not in reviewer_dict:\n",
    "            reviewer_dict[item_id] = set()  # Gunakan set agar reviewerID unik\n",
    "        reviewer_dict[item_id].add(reviewer_id)\n",
    "\n",
    "# Konversi dictionary ke DataFrame\n",
    "reviewer_counts = pd.DataFrame({\n",
    "    'item_id': list(reviewer_dict.keys()),\n",
    "    'Number of Reviewers': [len(revs) for revs in reviewer_dict.values()],\n",
    "    'Reviewer IDs': [list(revs) for revs in reviewer_dict.values()]\n",
    "})\n",
    "\n",
    "# Simpan hasil ke file CSV\n",
    "reviewer_counts.to_csv(output_file, index=False)\n",
    "\n",
    "print(f\"Hasil perhitungan reviewer disimpan ke {output_file}\")"
   ]
  },
  {
   "cell_type": "code",
   "execution_count": 12,
   "metadata": {},
   "outputs": [
    {
     "name": "stdout",
     "output_type": "stream",
     "text": [
      "      item_id  rating                                       entity_id  \\\n",
      "0  MNTGGZBSGA     1.0  res:Heavenly_Highway_Hymns:_Shaped-Note_Hymnal   \n",
      "1  MNTGGZBSGA     1.0  res:Heavenly_Highway_Hymns:_Shaped-Note_Hymnal   \n",
      "2  MNTGGZBSGA     1.0  res:Heavenly_Highway_Hymns:_Shaped-Note_Hymnal   \n",
      "3  MNTGGZBSGA     1.0  res:Heavenly_Highway_Hymns:_Shaped-Note_Hymnal   \n",
      "4  MNTGGZBSGA     1.0  res:Heavenly_Highway_Hymns:_Shaped-Note_Hymnal   \n",
      "\n",
      "                                          head_id   relation_id  \\\n",
      "0  res:Heavenly_Highway_Hymns:_Shaped-Note_Hymnal   dct:subject   \n",
      "1  res:Heavenly_Highway_Hymns:_Shaped-Note_Hymnal   dct:subject   \n",
      "2  res:Heavenly_Highway_Hymns:_Shaped-Note_Hymnal    dbo:author   \n",
      "3  res:Heavenly_Highway_Hymns:_Shaped-Note_Hymnal    dbo:author   \n",
      "4  res:Heavenly_Highway_Hymns:_Shaped-Note_Hymnal  dbo:composer   \n",
      "\n",
      "           tail_id  reviewerID  \n",
      "0       cat:Hymnal      366595  \n",
      "1       cat:Hymnal      591833  \n",
      "2    res:John_Shaw      366595  \n",
      "3    res:John_Shaw      591833  \n",
      "4  res:B._F._White      366595  \n"
     ]
    }
   ],
   "source": [
    "df1 = pd.read_csv('Dataset_Books.csv')\n",
    "\n",
    "print(df1.head())"
   ]
  },
  {
   "cell_type": "code",
   "execution_count": 13,
   "metadata": {},
   "outputs": [
    {
     "data": {
      "text/html": [
       "<div>\n",
       "<style scoped>\n",
       "    .dataframe tbody tr th:only-of-type {\n",
       "        vertical-align: middle;\n",
       "    }\n",
       "\n",
       "    .dataframe tbody tr th {\n",
       "        vertical-align: top;\n",
       "    }\n",
       "\n",
       "    .dataframe thead th {\n",
       "        text-align: right;\n",
       "    }\n",
       "</style>\n",
       "<table border=\"1\" class=\"dataframe\">\n",
       "  <thead>\n",
       "    <tr style=\"text-align: right;\">\n",
       "      <th></th>\n",
       "      <th>Number of Reviewers</th>\n",
       "      <th>Reviewer IDs</th>\n",
       "    </tr>\n",
       "    <tr>\n",
       "      <th>item_id</th>\n",
       "      <th></th>\n",
       "      <th></th>\n",
       "    </tr>\n",
       "  </thead>\n",
       "  <tbody>\n",
       "    <tr>\n",
       "      <th>G42DANZRME</th>\n",
       "      <td>16</td>\n",
       "      <td>[23883, 294127, 64389, 190743, 33764, 344009, ...</td>\n",
       "    </tr>\n",
       "    <tr>\n",
       "      <th>G42DAYJQGJ</th>\n",
       "      <td>3</td>\n",
       "      <td>[479687, 592526, 52742, 479687, 592526, 52742,...</td>\n",
       "    </tr>\n",
       "    <tr>\n",
       "      <th>G42DGMBWMV</th>\n",
       "      <td>2</td>\n",
       "      <td>[477594, 75541, 477594, 75541, 477594, 75541, ...</td>\n",
       "    </tr>\n",
       "    <tr>\n",
       "      <th>G42DGMZZGR</th>\n",
       "      <td>3</td>\n",
       "      <td>[220251, 154822, 238892, 220251, 154822, 23889...</td>\n",
       "    </tr>\n",
       "    <tr>\n",
       "      <th>G42DGN3EGE</th>\n",
       "      <td>2</td>\n",
       "      <td>[70248, 471659, 70248, 471659, 70248, 471659, ...</td>\n",
       "    </tr>\n",
       "    <tr>\n",
       "      <th>...</th>\n",
       "      <td>...</td>\n",
       "      <td>...</td>\n",
       "    </tr>\n",
       "    <tr>\n",
       "      <th>MZTGGNJYGE</th>\n",
       "      <td>3</td>\n",
       "      <td>[331459, 96848, 396819, 331459, 96848, 396819,...</td>\n",
       "    </tr>\n",
       "    <tr>\n",
       "      <th>MZTGINJSMY</th>\n",
       "      <td>7</td>\n",
       "      <td>[551863, 264251, 359218, 285945, 321714, 97667...</td>\n",
       "    </tr>\n",
       "    <tr>\n",
       "      <th>MZTGKYLCMQ</th>\n",
       "      <td>2</td>\n",
       "      <td>[156194, 358726, 156194, 358726, 156194, 35872...</td>\n",
       "    </tr>\n",
       "    <tr>\n",
       "      <th>MZTGKZDGGV</th>\n",
       "      <td>8</td>\n",
       "      <td>[583033, 155028, 414584, 366043, 264990, 39629...</td>\n",
       "    </tr>\n",
       "    <tr>\n",
       "      <th>MZTGKZLEHA</th>\n",
       "      <td>18</td>\n",
       "      <td>[254720, 576211, 266594, 13404, 482159, 545943...</td>\n",
       "    </tr>\n",
       "  </tbody>\n",
       "</table>\n",
       "<p>4271 rows × 2 columns</p>\n",
       "</div>"
      ],
      "text/plain": [
       "            Number of Reviewers  \\\n",
       "item_id                           \n",
       "G42DANZRME                   16   \n",
       "G42DAYJQGJ                    3   \n",
       "G42DGMBWMV                    2   \n",
       "G42DGMZZGR                    3   \n",
       "G42DGN3EGE                    2   \n",
       "...                         ...   \n",
       "MZTGGNJYGE                    3   \n",
       "MZTGINJSMY                    7   \n",
       "MZTGKYLCMQ                    2   \n",
       "MZTGKZDGGV                    8   \n",
       "MZTGKZLEHA                   18   \n",
       "\n",
       "                                                 Reviewer IDs  \n",
       "item_id                                                        \n",
       "G42DANZRME  [23883, 294127, 64389, 190743, 33764, 344009, ...  \n",
       "G42DAYJQGJ  [479687, 592526, 52742, 479687, 592526, 52742,...  \n",
       "G42DGMBWMV  [477594, 75541, 477594, 75541, 477594, 75541, ...  \n",
       "G42DGMZZGR  [220251, 154822, 238892, 220251, 154822, 23889...  \n",
       "G42DGN3EGE  [70248, 471659, 70248, 471659, 70248, 471659, ...  \n",
       "...                                                       ...  \n",
       "MZTGGNJYGE  [331459, 96848, 396819, 331459, 96848, 396819,...  \n",
       "MZTGINJSMY  [551863, 264251, 359218, 285945, 321714, 97667...  \n",
       "MZTGKYLCMQ  [156194, 358726, 156194, 358726, 156194, 35872...  \n",
       "MZTGKZDGGV  [583033, 155028, 414584, 366043, 264990, 39629...  \n",
       "MZTGKZLEHA  [254720, 576211, 266594, 13404, 482159, 545943...  \n",
       "\n",
       "[4271 rows x 2 columns]"
      ]
     },
     "execution_count": 13,
     "metadata": {},
     "output_type": "execute_result"
    }
   ],
   "source": [
    "# Group by 'asin' and aggregate reviewerID into a list\n",
    "reviewer_counts = df1.groupby('item_id')['reviewerID'].agg(['nunique', list])\n",
    "\n",
    "# Rename columns for clarity\n",
    "reviewer_counts = reviewer_counts.rename(columns={'nunique': 'Number of Reviewers', 'list': 'Reviewer IDs'})\n",
    "\n",
    "reviewer_counts"
   ]
  },
  {
   "cell_type": "code",
   "execution_count": 14,
   "metadata": {},
   "outputs": [
    {
     "name": "stdout",
     "output_type": "stream",
     "text": [
      "<class 'pandas.core.frame.DataFrame'>\n",
      "RangeIndex: 831820 entries, 0 to 831819\n",
      "Data columns (total 7 columns):\n",
      " #   Column       Non-Null Count   Dtype  \n",
      "---  ------       --------------   -----  \n",
      " 0   item_id      831820 non-null  object \n",
      " 1   rating       831820 non-null  float64\n",
      " 2   entity_id    831820 non-null  object \n",
      " 3   head_id      831820 non-null  object \n",
      " 4   relation_id  831820 non-null  object \n",
      " 5   tail_id      831820 non-null  object \n",
      " 6   reviewerID   831820 non-null  int64  \n",
      "dtypes: float64(1), int64(1), object(5)\n",
      "memory usage: 44.4+ MB\n"
     ]
    }
   ],
   "source": [
    "df1.info()"
   ]
  },
  {
   "cell_type": "code",
   "execution_count": 15,
   "metadata": {},
   "outputs": [
    {
     "name": "stdout",
     "output_type": "stream",
     "text": [
      "4271\n"
     ]
    }
   ],
   "source": [
    "print(df1['item_id'].nunique())"
   ]
  }
 ],
 "metadata": {
  "kernelspec": {
   "display_name": "base",
   "language": "python",
   "name": "python3"
  },
  "language_info": {
   "codemirror_mode": {
    "name": "ipython",
    "version": 3
   },
   "file_extension": ".py",
   "mimetype": "text/x-python",
   "name": "python",
   "nbconvert_exporter": "python",
   "pygments_lexer": "ipython3",
   "version": "3.12.4"
  }
 },
 "nbformat": 4,
 "nbformat_minor": 2
}
